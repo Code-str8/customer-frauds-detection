{
  "cells": [
    {
      "cell_type": "markdown",
      "metadata": {
        "id": "uFuklxiNJN6-"
      },
      "source": [
        "## **Fraud Detection in Electricity and Gas Consumption**\n",
        "## BUSINESS UNDERSTANDING\n",
        "Detect fraudulent clients using historical billing data from STEG. Help STEG identify and prevent fraudulent activities to reduce losses.\n",
        "Evaluation Metric is AUC (Area Under the Curve), which will assess how well the model distinguishes between fraudulent and non-fraudulent clients."
      ]
    },
    {
      "cell_type": "markdown",
      "metadata": {
        "id": "yd0qHgy4JN7B"
      },
      "source": [
        "             HYPOTHESIS\n",
        "\n",
        "Null Hypothesis (H0): The distribution of counter_type does not differ between fraudulent and non-fraudulent clients..\n",
        "\n",
        "\n",
        "Alternative Hypothesis (H1): Certain counter_type values are more prevalent among fraudulent clients, indicating a relationship between counter type and fraudulent activities."
      ]
    },
    {
      "cell_type": "markdown",
      "metadata": {
        "id": "IfYTCATCJN7D"
      },
      "source": [
        "### QUESTIONS\n",
        "\n",
        "\n",
        "1. How does counter_type distribution differ between fraudulent and non-fraudulent clients?\n",
        "\n",
        "2. What is the frequency of each unique counter_type across fraud categories?\n",
        "\n",
        "3. Is there a relationship between consumption levels and counter_type?\n",
        "\n",
        "4. Do seasonal variations in consumption patterns differ across counter_type and fraud categories?\n",
        "\n"
      ]
    },
    {
      "cell_type": "markdown",
      "metadata": {
        "id": "H4FiSy7wJN7E"
      },
      "source": [
        "## DATA UNDERSTANDING\n",
        "## Importation"
      ]
    },
    {
      "cell_type": "code",
      "execution_count": 4,
      "metadata": {
        "id": "WVtPwd16JN7G"
      },
      "outputs": [],
      "source": [
        "#data handling\n",
        "import pandas as pd\n",
        "import numpy as np\n",
        "import warnings\n",
        "warnings.filterwarnings(\"ignore\")\n",
        "\n",
        "# visualization\n",
        "import seaborn as sns\n",
        "import matplotlib.pyplot as plt\n",
        "import plotly.express as px\n",
        "\n",
        "#hypothesis\n",
        "from scipy import stats\n",
        "\n",
        "from sklearn.preprocessing import StandardScaler\n",
        "from sklearn.decomposition import PCA"
      ]
    },
    {
      "cell_type": "markdown",
      "metadata": {
        "id": "-M6Hsj54uyTU"
      },
      "source": [
        "## EDA"
      ]
    },
    {
      "cell_type": "code",
      "execution_count": 5,
      "metadata": {
        "colab": {
          "base_uri": "https://localhost:8080/",
          "height": 423
        },
        "id": "aJKzLItXvf65",
        "outputId": "172bb830-c922-4d99-a7e2-a1ba5baa6892"
      },
      "outputs": [
        {
          "data": {
            "text/html": [
              "<div>\n",
              "<style scoped>\n",
              "    .dataframe tbody tr th:only-of-type {\n",
              "        vertical-align: middle;\n",
              "    }\n",
              "\n",
              "    .dataframe tbody tr th {\n",
              "        vertical-align: top;\n",
              "    }\n",
              "\n",
              "    .dataframe thead th {\n",
              "        text-align: right;\n",
              "    }\n",
              "</style>\n",
              "<table border=\"1\" class=\"dataframe\">\n",
              "  <thead>\n",
              "    <tr style=\"text-align: right;\">\n",
              "      <th></th>\n",
              "      <th>disrict</th>\n",
              "      <th>client_id</th>\n",
              "      <th>client_catg</th>\n",
              "      <th>region</th>\n",
              "      <th>creation_date</th>\n",
              "      <th>target</th>\n",
              "    </tr>\n",
              "  </thead>\n",
              "  <tbody>\n",
              "    <tr>\n",
              "      <th>0</th>\n",
              "      <td>60</td>\n",
              "      <td>train_Client_0</td>\n",
              "      <td>11</td>\n",
              "      <td>101</td>\n",
              "      <td>31/12/1994</td>\n",
              "      <td>0.0</td>\n",
              "    </tr>\n",
              "    <tr>\n",
              "      <th>1</th>\n",
              "      <td>69</td>\n",
              "      <td>train_Client_1</td>\n",
              "      <td>11</td>\n",
              "      <td>107</td>\n",
              "      <td>29/05/2002</td>\n",
              "      <td>0.0</td>\n",
              "    </tr>\n",
              "    <tr>\n",
              "      <th>2</th>\n",
              "      <td>62</td>\n",
              "      <td>train_Client_10</td>\n",
              "      <td>11</td>\n",
              "      <td>301</td>\n",
              "      <td>13/03/1986</td>\n",
              "      <td>0.0</td>\n",
              "    </tr>\n",
              "    <tr>\n",
              "      <th>3</th>\n",
              "      <td>69</td>\n",
              "      <td>train_Client_100</td>\n",
              "      <td>11</td>\n",
              "      <td>105</td>\n",
              "      <td>11/07/1996</td>\n",
              "      <td>0.0</td>\n",
              "    </tr>\n",
              "    <tr>\n",
              "      <th>4</th>\n",
              "      <td>62</td>\n",
              "      <td>train_Client_1000</td>\n",
              "      <td>11</td>\n",
              "      <td>303</td>\n",
              "      <td>14/10/2014</td>\n",
              "      <td>0.0</td>\n",
              "    </tr>\n",
              "    <tr>\n",
              "      <th>...</th>\n",
              "      <td>...</td>\n",
              "      <td>...</td>\n",
              "      <td>...</td>\n",
              "      <td>...</td>\n",
              "      <td>...</td>\n",
              "      <td>...</td>\n",
              "    </tr>\n",
              "    <tr>\n",
              "      <th>135488</th>\n",
              "      <td>62</td>\n",
              "      <td>train_Client_99995</td>\n",
              "      <td>11</td>\n",
              "      <td>304</td>\n",
              "      <td>26/07/2004</td>\n",
              "      <td>0.0</td>\n",
              "    </tr>\n",
              "    <tr>\n",
              "      <th>135489</th>\n",
              "      <td>63</td>\n",
              "      <td>train_Client_99996</td>\n",
              "      <td>11</td>\n",
              "      <td>311</td>\n",
              "      <td>25/10/2012</td>\n",
              "      <td>0.0</td>\n",
              "    </tr>\n",
              "    <tr>\n",
              "      <th>135490</th>\n",
              "      <td>63</td>\n",
              "      <td>train_Client_99997</td>\n",
              "      <td>11</td>\n",
              "      <td>311</td>\n",
              "      <td>22/11/2011</td>\n",
              "      <td>0.0</td>\n",
              "    </tr>\n",
              "    <tr>\n",
              "      <th>135491</th>\n",
              "      <td>60</td>\n",
              "      <td>train_Client_99998</td>\n",
              "      <td>11</td>\n",
              "      <td>101</td>\n",
              "      <td>22/12/1993</td>\n",
              "      <td>0.0</td>\n",
              "    </tr>\n",
              "    <tr>\n",
              "      <th>135492</th>\n",
              "      <td>60</td>\n",
              "      <td>train_Client_99999</td>\n",
              "      <td>11</td>\n",
              "      <td>101</td>\n",
              "      <td>18/02/1986</td>\n",
              "      <td>0.0</td>\n",
              "    </tr>\n",
              "  </tbody>\n",
              "</table>\n",
              "<p>135493 rows × 6 columns</p>\n",
              "</div>"
            ],
            "text/plain": [
              "        disrict           client_id  client_catg  region creation_date  target\n",
              "0            60      train_Client_0           11     101    31/12/1994     0.0\n",
              "1            69      train_Client_1           11     107    29/05/2002     0.0\n",
              "2            62     train_Client_10           11     301    13/03/1986     0.0\n",
              "3            69    train_Client_100           11     105    11/07/1996     0.0\n",
              "4            62   train_Client_1000           11     303    14/10/2014     0.0\n",
              "...         ...                 ...          ...     ...           ...     ...\n",
              "135488       62  train_Client_99995           11     304    26/07/2004     0.0\n",
              "135489       63  train_Client_99996           11     311    25/10/2012     0.0\n",
              "135490       63  train_Client_99997           11     311    22/11/2011     0.0\n",
              "135491       60  train_Client_99998           11     101    22/12/1993     0.0\n",
              "135492       60  train_Client_99999           11     101    18/02/1986     0.0\n",
              "\n",
              "[135493 rows x 6 columns]"
            ]
          },
          "execution_count": 5,
          "metadata": {},
          "output_type": "execute_result"
        }
      ],
      "source": [
        "#read dataset & convert to dataframe\n",
        "pd.read_csv('datasets/client_train.csv')\n",
        "\n",
        "df_client = pd.DataFrame(pd.read_csv('datasets/client_train.csv'))\n",
        "df_client"
      ]
    },
    {
      "cell_type": "code",
      "execution_count": 6,
      "metadata": {
        "colab": {
          "base_uri": "https://localhost:8080/",
          "height": 423
        },
        "id": "cx1EYtJ8WzdE",
        "outputId": "c4383dc1-4af9-466a-dc6b-8b5b1221cb3e"
      },
      "outputs": [
        {
          "data": {
            "text/html": [
              "<div>\n",
              "<style scoped>\n",
              "    .dataframe tbody tr th:only-of-type {\n",
              "        vertical-align: middle;\n",
              "    }\n",
              "\n",
              "    .dataframe tbody tr th {\n",
              "        vertical-align: top;\n",
              "    }\n",
              "\n",
              "    .dataframe thead th {\n",
              "        text-align: right;\n",
              "    }\n",
              "</style>\n",
              "<table border=\"1\" class=\"dataframe\">\n",
              "  <thead>\n",
              "    <tr style=\"text-align: right;\">\n",
              "      <th></th>\n",
              "      <th>disrict</th>\n",
              "      <th>client_id</th>\n",
              "      <th>client_catg</th>\n",
              "      <th>region</th>\n",
              "      <th>creation_date</th>\n",
              "      <th>target</th>\n",
              "    </tr>\n",
              "  </thead>\n",
              "  <tbody>\n",
              "    <tr>\n",
              "      <th>0</th>\n",
              "      <td>60</td>\n",
              "      <td>train_Client_0</td>\n",
              "      <td>11</td>\n",
              "      <td>101</td>\n",
              "      <td>31/12/1994</td>\n",
              "      <td>0.0</td>\n",
              "    </tr>\n",
              "    <tr>\n",
              "      <th>1</th>\n",
              "      <td>69</td>\n",
              "      <td>train_Client_1</td>\n",
              "      <td>11</td>\n",
              "      <td>107</td>\n",
              "      <td>29/05/2002</td>\n",
              "      <td>0.0</td>\n",
              "    </tr>\n",
              "    <tr>\n",
              "      <th>2</th>\n",
              "      <td>62</td>\n",
              "      <td>train_Client_10</td>\n",
              "      <td>11</td>\n",
              "      <td>301</td>\n",
              "      <td>13/03/1986</td>\n",
              "      <td>0.0</td>\n",
              "    </tr>\n",
              "    <tr>\n",
              "      <th>3</th>\n",
              "      <td>69</td>\n",
              "      <td>train_Client_100</td>\n",
              "      <td>11</td>\n",
              "      <td>105</td>\n",
              "      <td>11/07/1996</td>\n",
              "      <td>0.0</td>\n",
              "    </tr>\n",
              "    <tr>\n",
              "      <th>4</th>\n",
              "      <td>62</td>\n",
              "      <td>train_Client_1000</td>\n",
              "      <td>11</td>\n",
              "      <td>303</td>\n",
              "      <td>14/10/2014</td>\n",
              "      <td>0.0</td>\n",
              "    </tr>\n",
              "    <tr>\n",
              "      <th>...</th>\n",
              "      <td>...</td>\n",
              "      <td>...</td>\n",
              "      <td>...</td>\n",
              "      <td>...</td>\n",
              "      <td>...</td>\n",
              "      <td>...</td>\n",
              "    </tr>\n",
              "    <tr>\n",
              "      <th>135488</th>\n",
              "      <td>62</td>\n",
              "      <td>train_Client_99995</td>\n",
              "      <td>11</td>\n",
              "      <td>304</td>\n",
              "      <td>26/07/2004</td>\n",
              "      <td>0.0</td>\n",
              "    </tr>\n",
              "    <tr>\n",
              "      <th>135489</th>\n",
              "      <td>63</td>\n",
              "      <td>train_Client_99996</td>\n",
              "      <td>11</td>\n",
              "      <td>311</td>\n",
              "      <td>25/10/2012</td>\n",
              "      <td>0.0</td>\n",
              "    </tr>\n",
              "    <tr>\n",
              "      <th>135490</th>\n",
              "      <td>63</td>\n",
              "      <td>train_Client_99997</td>\n",
              "      <td>11</td>\n",
              "      <td>311</td>\n",
              "      <td>22/11/2011</td>\n",
              "      <td>0.0</td>\n",
              "    </tr>\n",
              "    <tr>\n",
              "      <th>135491</th>\n",
              "      <td>60</td>\n",
              "      <td>train_Client_99998</td>\n",
              "      <td>11</td>\n",
              "      <td>101</td>\n",
              "      <td>22/12/1993</td>\n",
              "      <td>0.0</td>\n",
              "    </tr>\n",
              "    <tr>\n",
              "      <th>135492</th>\n",
              "      <td>60</td>\n",
              "      <td>train_Client_99999</td>\n",
              "      <td>11</td>\n",
              "      <td>101</td>\n",
              "      <td>18/02/1986</td>\n",
              "      <td>0.0</td>\n",
              "    </tr>\n",
              "  </tbody>\n",
              "</table>\n",
              "<p>135493 rows × 6 columns</p>\n",
              "</div>"
            ],
            "text/plain": [
              "        disrict           client_id  client_catg  region creation_date  target\n",
              "0            60      train_Client_0           11     101    31/12/1994     0.0\n",
              "1            69      train_Client_1           11     107    29/05/2002     0.0\n",
              "2            62     train_Client_10           11     301    13/03/1986     0.0\n",
              "3            69    train_Client_100           11     105    11/07/1996     0.0\n",
              "4            62   train_Client_1000           11     303    14/10/2014     0.0\n",
              "...         ...                 ...          ...     ...           ...     ...\n",
              "135488       62  train_Client_99995           11     304    26/07/2004     0.0\n",
              "135489       63  train_Client_99996           11     311    25/10/2012     0.0\n",
              "135490       63  train_Client_99997           11     311    22/11/2011     0.0\n",
              "135491       60  train_Client_99998           11     101    22/12/1993     0.0\n",
              "135492       60  train_Client_99999           11     101    18/02/1986     0.0\n",
              "\n",
              "[135493 rows x 6 columns]"
            ]
          },
          "execution_count": 6,
          "metadata": {},
          "output_type": "execute_result"
        }
      ],
      "source": [
        "#copy dataset\n",
        "df_clients = df_client.copy()\n",
        "df_clients"
      ]
    },
    {
      "cell_type": "code",
      "execution_count": 7,
      "metadata": {
        "colab": {
          "base_uri": "https://localhost:8080/"
        },
        "id": "YoMOdeauXf97",
        "outputId": "15d1d1da-e083-47c6-f192-8de17ecf5c21"
      },
      "outputs": [
        {
          "name": "stdout",
          "output_type": "stream",
          "text": [
            "<class 'pandas.core.frame.DataFrame'>\n",
            "RangeIndex: 135493 entries, 0 to 135492\n",
            "Data columns (total 6 columns):\n",
            " #   Column         Non-Null Count   Dtype  \n",
            "---  ------         --------------   -----  \n",
            " 0   disrict        135493 non-null  int64  \n",
            " 1   client_id      135493 non-null  object \n",
            " 2   client_catg    135493 non-null  int64  \n",
            " 3   region         135493 non-null  int64  \n",
            " 4   creation_date  135493 non-null  object \n",
            " 5   target         135493 non-null  float64\n",
            "dtypes: float64(1), int64(3), object(2)\n",
            "memory usage: 6.2+ MB\n"
          ]
        }
      ],
      "source": [
        "#general info\n",
        "df_clients.info()"
      ]
    },
    {
      "cell_type": "markdown",
      "metadata": {
        "id": "ygf_wnxcsiVX"
      },
      "source": [
        "The dataset contains 135493 entries and has no missing values. The 'target' column, currently represented as a float, will be converted to an integer data type"
      ]
    },
    {
      "cell_type": "code",
      "execution_count": 8,
      "metadata": {
        "colab": {
          "base_uri": "https://localhost:8080/"
        },
        "id": "qPIA5RuAdndN",
        "outputId": "46f41313-408f-49d6-95e0-f46fa85ed2e3"
      },
      "outputs": [
        {
          "data": {
            "text/plain": [
              "(135493, 6)"
            ]
          },
          "execution_count": 8,
          "metadata": {},
          "output_type": "execute_result"
        }
      ],
      "source": [
        "# dataset size\n",
        "df_clients.shape"
      ]
    },
    {
      "cell_type": "code",
      "execution_count": 9,
      "metadata": {
        "colab": {
          "base_uri": "https://localhost:8080/",
          "height": 175
        },
        "id": "FqO1ELvlYw-1",
        "outputId": "646d0339-1e39-4bc7-b992-77b34b06091e"
      },
      "outputs": [
        {
          "data": {
            "text/html": [
              "<div>\n",
              "<style scoped>\n",
              "    .dataframe tbody tr th:only-of-type {\n",
              "        vertical-align: middle;\n",
              "    }\n",
              "\n",
              "    .dataframe tbody tr th {\n",
              "        vertical-align: top;\n",
              "    }\n",
              "\n",
              "    .dataframe thead th {\n",
              "        text-align: right;\n",
              "    }\n",
              "</style>\n",
              "<table border=\"1\" class=\"dataframe\">\n",
              "  <thead>\n",
              "    <tr style=\"text-align: right;\">\n",
              "      <th></th>\n",
              "      <th>count</th>\n",
              "      <th>mean</th>\n",
              "      <th>std</th>\n",
              "      <th>min</th>\n",
              "      <th>25%</th>\n",
              "      <th>50%</th>\n",
              "      <th>75%</th>\n",
              "      <th>max</th>\n",
              "    </tr>\n",
              "  </thead>\n",
              "  <tbody>\n",
              "    <tr>\n",
              "      <th>disrict</th>\n",
              "      <td>135493.0</td>\n",
              "      <td>63.511222</td>\n",
              "      <td>3.354400</td>\n",
              "      <td>60.0</td>\n",
              "      <td>62.0</td>\n",
              "      <td>62.0</td>\n",
              "      <td>69.0</td>\n",
              "      <td>69.0</td>\n",
              "    </tr>\n",
              "    <tr>\n",
              "      <th>client_catg</th>\n",
              "      <td>135493.0</td>\n",
              "      <td>11.512506</td>\n",
              "      <td>4.423761</td>\n",
              "      <td>11.0</td>\n",
              "      <td>11.0</td>\n",
              "      <td>11.0</td>\n",
              "      <td>11.0</td>\n",
              "      <td>51.0</td>\n",
              "    </tr>\n",
              "    <tr>\n",
              "      <th>region</th>\n",
              "      <td>135493.0</td>\n",
              "      <td>206.159809</td>\n",
              "      <td>104.207044</td>\n",
              "      <td>101.0</td>\n",
              "      <td>103.0</td>\n",
              "      <td>107.0</td>\n",
              "      <td>307.0</td>\n",
              "      <td>399.0</td>\n",
              "    </tr>\n",
              "    <tr>\n",
              "      <th>target</th>\n",
              "      <td>135493.0</td>\n",
              "      <td>0.055841</td>\n",
              "      <td>0.229614</td>\n",
              "      <td>0.0</td>\n",
              "      <td>0.0</td>\n",
              "      <td>0.0</td>\n",
              "      <td>0.0</td>\n",
              "      <td>1.0</td>\n",
              "    </tr>\n",
              "  </tbody>\n",
              "</table>\n",
              "</div>"
            ],
            "text/plain": [
              "                count        mean         std    min    25%    50%    75%  \\\n",
              "disrict      135493.0   63.511222    3.354400   60.0   62.0   62.0   69.0   \n",
              "client_catg  135493.0   11.512506    4.423761   11.0   11.0   11.0   11.0   \n",
              "region       135493.0  206.159809  104.207044  101.0  103.0  107.0  307.0   \n",
              "target       135493.0    0.055841    0.229614    0.0    0.0    0.0    0.0   \n",
              "\n",
              "               max  \n",
              "disrict       69.0  \n",
              "client_catg   51.0  \n",
              "region       399.0  \n",
              "target         1.0  "
            ]
          },
          "execution_count": 9,
          "metadata": {},
          "output_type": "execute_result"
        }
      ],
      "source": [
        " # descriptive statistics\n",
        "df_clients.describe().T"
      ]
    },
    {
      "cell_type": "markdown",
      "metadata": {
        "id": "pMrvaPXFup5m"
      },
      "source": [
        " From the descriptive statistics of columns, we can observe that all values are non-negative (greater than or equal to 0). The 'region' column exhibits a discrepancy between its mean and minimum values, suggesting a skewed distribution. To address this skewness, we can apply a log(x+1) transformation, which is suitable for handling zero values."
      ]
    },
    {
      "cell_type": "code",
      "execution_count": 10,
      "metadata": {
        "colab": {
          "base_uri": "https://localhost:8080/",
          "height": 237
        },
        "id": "LaC45So-YB1S",
        "outputId": "8aa5df86-718d-4e82-d473-0aba5ca34830"
      },
      "outputs": [
        {
          "data": {
            "text/html": [
              "<div>\n",
              "<style scoped>\n",
              "    .dataframe tbody tr th:only-of-type {\n",
              "        vertical-align: middle;\n",
              "    }\n",
              "\n",
              "    .dataframe tbody tr th {\n",
              "        vertical-align: top;\n",
              "    }\n",
              "\n",
              "    .dataframe thead th {\n",
              "        text-align: right;\n",
              "    }\n",
              "</style>\n",
              "<table border=\"1\" class=\"dataframe\">\n",
              "  <thead>\n",
              "    <tr style=\"text-align: right;\">\n",
              "      <th></th>\n",
              "      <th>count</th>\n",
              "      <th>unique</th>\n",
              "      <th>top</th>\n",
              "      <th>freq</th>\n",
              "      <th>mean</th>\n",
              "      <th>std</th>\n",
              "      <th>min</th>\n",
              "      <th>25%</th>\n",
              "      <th>50%</th>\n",
              "      <th>75%</th>\n",
              "      <th>max</th>\n",
              "    </tr>\n",
              "  </thead>\n",
              "  <tbody>\n",
              "    <tr>\n",
              "      <th>disrict</th>\n",
              "      <td>135493.0</td>\n",
              "      <td>NaN</td>\n",
              "      <td>NaN</td>\n",
              "      <td>NaN</td>\n",
              "      <td>63.511222</td>\n",
              "      <td>3.3544</td>\n",
              "      <td>60.0</td>\n",
              "      <td>62.0</td>\n",
              "      <td>62.0</td>\n",
              "      <td>69.0</td>\n",
              "      <td>69.0</td>\n",
              "    </tr>\n",
              "    <tr>\n",
              "      <th>client_id</th>\n",
              "      <td>135493</td>\n",
              "      <td>135493</td>\n",
              "      <td>train_Client_0</td>\n",
              "      <td>1</td>\n",
              "      <td>NaN</td>\n",
              "      <td>NaN</td>\n",
              "      <td>NaN</td>\n",
              "      <td>NaN</td>\n",
              "      <td>NaN</td>\n",
              "      <td>NaN</td>\n",
              "      <td>NaN</td>\n",
              "    </tr>\n",
              "    <tr>\n",
              "      <th>client_catg</th>\n",
              "      <td>135493.0</td>\n",
              "      <td>NaN</td>\n",
              "      <td>NaN</td>\n",
              "      <td>NaN</td>\n",
              "      <td>11.512506</td>\n",
              "      <td>4.423761</td>\n",
              "      <td>11.0</td>\n",
              "      <td>11.0</td>\n",
              "      <td>11.0</td>\n",
              "      <td>11.0</td>\n",
              "      <td>51.0</td>\n",
              "    </tr>\n",
              "    <tr>\n",
              "      <th>region</th>\n",
              "      <td>135493.0</td>\n",
              "      <td>NaN</td>\n",
              "      <td>NaN</td>\n",
              "      <td>NaN</td>\n",
              "      <td>206.159809</td>\n",
              "      <td>104.207044</td>\n",
              "      <td>101.0</td>\n",
              "      <td>103.0</td>\n",
              "      <td>107.0</td>\n",
              "      <td>307.0</td>\n",
              "      <td>399.0</td>\n",
              "    </tr>\n",
              "    <tr>\n",
              "      <th>creation_date</th>\n",
              "      <td>135493</td>\n",
              "      <td>8088</td>\n",
              "      <td>20/11/1997</td>\n",
              "      <td>214</td>\n",
              "      <td>NaN</td>\n",
              "      <td>NaN</td>\n",
              "      <td>NaN</td>\n",
              "      <td>NaN</td>\n",
              "      <td>NaN</td>\n",
              "      <td>NaN</td>\n",
              "      <td>NaN</td>\n",
              "    </tr>\n",
              "    <tr>\n",
              "      <th>target</th>\n",
              "      <td>135493.0</td>\n",
              "      <td>NaN</td>\n",
              "      <td>NaN</td>\n",
              "      <td>NaN</td>\n",
              "      <td>0.055841</td>\n",
              "      <td>0.229614</td>\n",
              "      <td>0.0</td>\n",
              "      <td>0.0</td>\n",
              "      <td>0.0</td>\n",
              "      <td>0.0</td>\n",
              "      <td>1.0</td>\n",
              "    </tr>\n",
              "  </tbody>\n",
              "</table>\n",
              "</div>"
            ],
            "text/plain": [
              "                  count  unique             top freq        mean         std  \\\n",
              "disrict        135493.0     NaN             NaN  NaN   63.511222      3.3544   \n",
              "client_id        135493  135493  train_Client_0    1         NaN         NaN   \n",
              "client_catg    135493.0     NaN             NaN  NaN   11.512506    4.423761   \n",
              "region         135493.0     NaN             NaN  NaN  206.159809  104.207044   \n",
              "creation_date    135493    8088      20/11/1997  214         NaN         NaN   \n",
              "target         135493.0     NaN             NaN  NaN    0.055841    0.229614   \n",
              "\n",
              "                 min    25%    50%    75%    max  \n",
              "disrict         60.0   62.0   62.0   69.0   69.0  \n",
              "client_id        NaN    NaN    NaN    NaN    NaN  \n",
              "client_catg     11.0   11.0   11.0   11.0   51.0  \n",
              "region         101.0  103.0  107.0  307.0  399.0  \n",
              "creation_date    NaN    NaN    NaN    NaN    NaN  \n",
              "target           0.0    0.0    0.0    0.0    1.0  "
            ]
          },
          "execution_count": 10,
          "metadata": {},
          "output_type": "execute_result"
        }
      ],
      "source": [
        "df_clients.describe(include='all').T"
      ]
    },
    {
      "cell_type": "code",
      "execution_count": 11,
      "metadata": {
        "colab": {
          "base_uri": "https://localhost:8080/"
        },
        "id": "3uaU_Qtvbw5R",
        "outputId": "b91fe897-af5d-4fe6-c4bc-771aad8ecc4c"
      },
      "outputs": [
        {
          "name": "stdout",
          "output_type": "stream",
          "text": [
            "number of duplicated =  0\n"
          ]
        }
      ],
      "source": [
        "# check duplicates\n",
        "duplicated = df_clients.duplicated().sum()\n",
        "print(f\"number of duplicated = \",duplicated)"
      ]
    },
    {
      "cell_type": "code",
      "execution_count": 12,
      "metadata": {
        "colab": {
          "base_uri": "https://localhost:8080/",
          "height": 272
        },
        "id": "AxNqqf1NdNtc",
        "outputId": "3f95bd0d-0cbb-4da9-9e6d-aa1e3eca550d"
      },
      "outputs": [
        {
          "data": {
            "text/plain": [
              "disrict          0\n",
              "client_id        0\n",
              "client_catg      0\n",
              "region           0\n",
              "creation_date    0\n",
              "target           0\n",
              "dtype: int64"
            ]
          },
          "execution_count": 12,
          "metadata": {},
          "output_type": "execute_result"
        }
      ],
      "source": [
        "# check null values\n",
        "df_clients.isnull().sum()"
      ]
    },
    {
      "cell_type": "code",
      "execution_count": 13,
      "metadata": {
        "colab": {
          "base_uri": "https://localhost:8080/"
        },
        "id": "V6gZk-8pdakt",
        "outputId": "018030ab-25da-4352-abae-865a6974046a"
      },
      "outputs": [
        {
          "name": "stdout",
          "output_type": "stream",
          "text": [
            "disrict\n",
            "62    40353\n",
            "69    34231\n",
            "60    31922\n",
            "63    28987\n",
            "Name: count, dtype: int64\n"
          ]
        }
      ],
      "source": [
        "# unique value count\n",
        "print(df_clients['disrict'].value_counts())"
      ]
    },
    {
      "cell_type": "markdown",
      "metadata": {
        "id": "5jIgYg56lXL4"
      },
      "source": [
        "## **Cleaning**\n",
        "\n",
        "* change target to int\n",
        "\n",
        "* client id\n",
        "\n",
        "* drop district or region\n",
        "\n",
        "\n"
      ]
    },
    {
      "cell_type": "code",
      "execution_count": 14,
      "metadata": {
        "colab": {
          "base_uri": "https://localhost:8080/",
          "height": 443
        },
        "id": "ZDOBxnxY2sZg",
        "outputId": "cd11b995-6b79-45d4-c7a9-d747b626fc9c"
      },
      "outputs": [
        {
          "data": {
            "text/html": [
              "<div>\n",
              "<style scoped>\n",
              "    .dataframe tbody tr th:only-of-type {\n",
              "        vertical-align: middle;\n",
              "    }\n",
              "\n",
              "    .dataframe tbody tr th {\n",
              "        vertical-align: top;\n",
              "    }\n",
              "\n",
              "    .dataframe thead th {\n",
              "        text-align: right;\n",
              "    }\n",
              "</style>\n",
              "<table border=\"1\" class=\"dataframe\">\n",
              "  <thead>\n",
              "    <tr style=\"text-align: right;\">\n",
              "      <th></th>\n",
              "      <th>client_id</th>\n",
              "      <th>invoice_date</th>\n",
              "      <th>tarif_type</th>\n",
              "      <th>counter_number</th>\n",
              "      <th>counter_statue</th>\n",
              "      <th>counter_code</th>\n",
              "      <th>reading_remarque</th>\n",
              "      <th>counter_coefficient</th>\n",
              "      <th>consommation_level_1</th>\n",
              "      <th>consommation_level_2</th>\n",
              "      <th>consommation_level_3</th>\n",
              "      <th>consommation_level_4</th>\n",
              "      <th>old_index</th>\n",
              "      <th>new_index</th>\n",
              "      <th>months_number</th>\n",
              "      <th>counter_type</th>\n",
              "    </tr>\n",
              "  </thead>\n",
              "  <tbody>\n",
              "    <tr>\n",
              "      <th>0</th>\n",
              "      <td>train_Client_0</td>\n",
              "      <td>2014-03-24</td>\n",
              "      <td>11</td>\n",
              "      <td>1335667</td>\n",
              "      <td>0</td>\n",
              "      <td>203</td>\n",
              "      <td>8</td>\n",
              "      <td>1</td>\n",
              "      <td>82</td>\n",
              "      <td>0</td>\n",
              "      <td>0</td>\n",
              "      <td>0</td>\n",
              "      <td>14302</td>\n",
              "      <td>14384</td>\n",
              "      <td>4</td>\n",
              "      <td>ELEC</td>\n",
              "    </tr>\n",
              "    <tr>\n",
              "      <th>1</th>\n",
              "      <td>train_Client_0</td>\n",
              "      <td>2013-03-29</td>\n",
              "      <td>11</td>\n",
              "      <td>1335667</td>\n",
              "      <td>0</td>\n",
              "      <td>203</td>\n",
              "      <td>6</td>\n",
              "      <td>1</td>\n",
              "      <td>1200</td>\n",
              "      <td>184</td>\n",
              "      <td>0</td>\n",
              "      <td>0</td>\n",
              "      <td>12294</td>\n",
              "      <td>13678</td>\n",
              "      <td>4</td>\n",
              "      <td>ELEC</td>\n",
              "    </tr>\n",
              "    <tr>\n",
              "      <th>2</th>\n",
              "      <td>train_Client_0</td>\n",
              "      <td>2015-03-23</td>\n",
              "      <td>11</td>\n",
              "      <td>1335667</td>\n",
              "      <td>0</td>\n",
              "      <td>203</td>\n",
              "      <td>8</td>\n",
              "      <td>1</td>\n",
              "      <td>123</td>\n",
              "      <td>0</td>\n",
              "      <td>0</td>\n",
              "      <td>0</td>\n",
              "      <td>14624</td>\n",
              "      <td>14747</td>\n",
              "      <td>4</td>\n",
              "      <td>ELEC</td>\n",
              "    </tr>\n",
              "    <tr>\n",
              "      <th>3</th>\n",
              "      <td>train_Client_0</td>\n",
              "      <td>2015-07-13</td>\n",
              "      <td>11</td>\n",
              "      <td>1335667</td>\n",
              "      <td>0</td>\n",
              "      <td>207</td>\n",
              "      <td>8</td>\n",
              "      <td>1</td>\n",
              "      <td>102</td>\n",
              "      <td>0</td>\n",
              "      <td>0</td>\n",
              "      <td>0</td>\n",
              "      <td>14747</td>\n",
              "      <td>14849</td>\n",
              "      <td>4</td>\n",
              "      <td>ELEC</td>\n",
              "    </tr>\n",
              "    <tr>\n",
              "      <th>4</th>\n",
              "      <td>train_Client_0</td>\n",
              "      <td>2016-11-17</td>\n",
              "      <td>11</td>\n",
              "      <td>1335667</td>\n",
              "      <td>0</td>\n",
              "      <td>207</td>\n",
              "      <td>9</td>\n",
              "      <td>1</td>\n",
              "      <td>572</td>\n",
              "      <td>0</td>\n",
              "      <td>0</td>\n",
              "      <td>0</td>\n",
              "      <td>15066</td>\n",
              "      <td>15638</td>\n",
              "      <td>12</td>\n",
              "      <td>ELEC</td>\n",
              "    </tr>\n",
              "    <tr>\n",
              "      <th>...</th>\n",
              "      <td>...</td>\n",
              "      <td>...</td>\n",
              "      <td>...</td>\n",
              "      <td>...</td>\n",
              "      <td>...</td>\n",
              "      <td>...</td>\n",
              "      <td>...</td>\n",
              "      <td>...</td>\n",
              "      <td>...</td>\n",
              "      <td>...</td>\n",
              "      <td>...</td>\n",
              "      <td>...</td>\n",
              "      <td>...</td>\n",
              "      <td>...</td>\n",
              "      <td>...</td>\n",
              "      <td>...</td>\n",
              "    </tr>\n",
              "    <tr>\n",
              "      <th>4476744</th>\n",
              "      <td>train_Client_99998</td>\n",
              "      <td>2005-08-19</td>\n",
              "      <td>10</td>\n",
              "      <td>1253571</td>\n",
              "      <td>0</td>\n",
              "      <td>202</td>\n",
              "      <td>9</td>\n",
              "      <td>1</td>\n",
              "      <td>400</td>\n",
              "      <td>135</td>\n",
              "      <td>0</td>\n",
              "      <td>0</td>\n",
              "      <td>3197</td>\n",
              "      <td>3732</td>\n",
              "      <td>8</td>\n",
              "      <td>ELEC</td>\n",
              "    </tr>\n",
              "    <tr>\n",
              "      <th>4476745</th>\n",
              "      <td>train_Client_99998</td>\n",
              "      <td>2005-12-19</td>\n",
              "      <td>10</td>\n",
              "      <td>1253571</td>\n",
              "      <td>0</td>\n",
              "      <td>202</td>\n",
              "      <td>6</td>\n",
              "      <td>1</td>\n",
              "      <td>200</td>\n",
              "      <td>6</td>\n",
              "      <td>0</td>\n",
              "      <td>0</td>\n",
              "      <td>3732</td>\n",
              "      <td>3938</td>\n",
              "      <td>4</td>\n",
              "      <td>ELEC</td>\n",
              "    </tr>\n",
              "    <tr>\n",
              "      <th>4476746</th>\n",
              "      <td>train_Client_99999</td>\n",
              "      <td>1996-09-25</td>\n",
              "      <td>11</td>\n",
              "      <td>560948</td>\n",
              "      <td>0</td>\n",
              "      <td>203</td>\n",
              "      <td>6</td>\n",
              "      <td>1</td>\n",
              "      <td>259</td>\n",
              "      <td>0</td>\n",
              "      <td>0</td>\n",
              "      <td>0</td>\n",
              "      <td>13884</td>\n",
              "      <td>14143</td>\n",
              "      <td>4</td>\n",
              "      <td>ELEC</td>\n",
              "    </tr>\n",
              "    <tr>\n",
              "      <th>4476747</th>\n",
              "      <td>train_Client_99999</td>\n",
              "      <td>1996-05-28</td>\n",
              "      <td>11</td>\n",
              "      <td>560948</td>\n",
              "      <td>0</td>\n",
              "      <td>203</td>\n",
              "      <td>6</td>\n",
              "      <td>1</td>\n",
              "      <td>603</td>\n",
              "      <td>0</td>\n",
              "      <td>0</td>\n",
              "      <td>0</td>\n",
              "      <td>13281</td>\n",
              "      <td>13884</td>\n",
              "      <td>4</td>\n",
              "      <td>ELEC</td>\n",
              "    </tr>\n",
              "    <tr>\n",
              "      <th>4476748</th>\n",
              "      <td>train_Client_99999</td>\n",
              "      <td>1996-01-25</td>\n",
              "      <td>11</td>\n",
              "      <td>560948</td>\n",
              "      <td>0</td>\n",
              "      <td>203</td>\n",
              "      <td>6</td>\n",
              "      <td>1</td>\n",
              "      <td>516</td>\n",
              "      <td>0</td>\n",
              "      <td>0</td>\n",
              "      <td>0</td>\n",
              "      <td>12765</td>\n",
              "      <td>13281</td>\n",
              "      <td>4</td>\n",
              "      <td>ELEC</td>\n",
              "    </tr>\n",
              "  </tbody>\n",
              "</table>\n",
              "<p>4476749 rows × 16 columns</p>\n",
              "</div>"
            ],
            "text/plain": [
              "                  client_id invoice_date  tarif_type  counter_number  \\\n",
              "0            train_Client_0   2014-03-24          11         1335667   \n",
              "1            train_Client_0   2013-03-29          11         1335667   \n",
              "2            train_Client_0   2015-03-23          11         1335667   \n",
              "3            train_Client_0   2015-07-13          11         1335667   \n",
              "4            train_Client_0   2016-11-17          11         1335667   \n",
              "...                     ...          ...         ...             ...   \n",
              "4476744  train_Client_99998   2005-08-19          10         1253571   \n",
              "4476745  train_Client_99998   2005-12-19          10         1253571   \n",
              "4476746  train_Client_99999   1996-09-25          11          560948   \n",
              "4476747  train_Client_99999   1996-05-28          11          560948   \n",
              "4476748  train_Client_99999   1996-01-25          11          560948   \n",
              "\n",
              "        counter_statue  counter_code  reading_remarque  counter_coefficient  \\\n",
              "0                    0           203                 8                    1   \n",
              "1                    0           203                 6                    1   \n",
              "2                    0           203                 8                    1   \n",
              "3                    0           207                 8                    1   \n",
              "4                    0           207                 9                    1   \n",
              "...                ...           ...               ...                  ...   \n",
              "4476744              0           202                 9                    1   \n",
              "4476745              0           202                 6                    1   \n",
              "4476746              0           203                 6                    1   \n",
              "4476747              0           203                 6                    1   \n",
              "4476748              0           203                 6                    1   \n",
              "\n",
              "         consommation_level_1  consommation_level_2  consommation_level_3  \\\n",
              "0                          82                     0                     0   \n",
              "1                        1200                   184                     0   \n",
              "2                         123                     0                     0   \n",
              "3                         102                     0                     0   \n",
              "4                         572                     0                     0   \n",
              "...                       ...                   ...                   ...   \n",
              "4476744                   400                   135                     0   \n",
              "4476745                   200                     6                     0   \n",
              "4476746                   259                     0                     0   \n",
              "4476747                   603                     0                     0   \n",
              "4476748                   516                     0                     0   \n",
              "\n",
              "         consommation_level_4  old_index  new_index  months_number  \\\n",
              "0                           0      14302      14384              4   \n",
              "1                           0      12294      13678              4   \n",
              "2                           0      14624      14747              4   \n",
              "3                           0      14747      14849              4   \n",
              "4                           0      15066      15638             12   \n",
              "...                       ...        ...        ...            ...   \n",
              "4476744                     0       3197       3732              8   \n",
              "4476745                     0       3732       3938              4   \n",
              "4476746                     0      13884      14143              4   \n",
              "4476747                     0      13281      13884              4   \n",
              "4476748                     0      12765      13281              4   \n",
              "\n",
              "        counter_type  \n",
              "0               ELEC  \n",
              "1               ELEC  \n",
              "2               ELEC  \n",
              "3               ELEC  \n",
              "4               ELEC  \n",
              "...              ...  \n",
              "4476744         ELEC  \n",
              "4476745         ELEC  \n",
              "4476746         ELEC  \n",
              "4476747         ELEC  \n",
              "4476748         ELEC  \n",
              "\n",
              "[4476749 rows x 16 columns]"
            ]
          },
          "execution_count": 14,
          "metadata": {},
          "output_type": "execute_result"
        }
      ],
      "source": [
        "#read dataset & convert to dataframe\n",
        "pd.read_csv('datasets/invoice_train.csv')\n",
        "\n",
        "df_invoice = pd.DataFrame(pd.read_csv('datasets/invoice_train.csv'))\n",
        "df_invoice"
      ]
    },
    {
      "cell_type": "code",
      "execution_count": 15,
      "metadata": {
        "colab": {
          "base_uri": "https://localhost:8080/",
          "height": 443
        },
        "id": "_25NQiaO7g0G",
        "outputId": "6a2f5150-3df6-4275-f96d-5e35c956d694"
      },
      "outputs": [
        {
          "data": {
            "text/html": [
              "<div>\n",
              "<style scoped>\n",
              "    .dataframe tbody tr th:only-of-type {\n",
              "        vertical-align: middle;\n",
              "    }\n",
              "\n",
              "    .dataframe tbody tr th {\n",
              "        vertical-align: top;\n",
              "    }\n",
              "\n",
              "    .dataframe thead th {\n",
              "        text-align: right;\n",
              "    }\n",
              "</style>\n",
              "<table border=\"1\" class=\"dataframe\">\n",
              "  <thead>\n",
              "    <tr style=\"text-align: right;\">\n",
              "      <th></th>\n",
              "      <th>client_id</th>\n",
              "      <th>invoice_date</th>\n",
              "      <th>tarif_type</th>\n",
              "      <th>counter_number</th>\n",
              "      <th>counter_statue</th>\n",
              "      <th>counter_code</th>\n",
              "      <th>reading_remarque</th>\n",
              "      <th>counter_coefficient</th>\n",
              "      <th>consommation_level_1</th>\n",
              "      <th>consommation_level_2</th>\n",
              "      <th>consommation_level_3</th>\n",
              "      <th>consommation_level_4</th>\n",
              "      <th>old_index</th>\n",
              "      <th>new_index</th>\n",
              "      <th>months_number</th>\n",
              "      <th>counter_type</th>\n",
              "    </tr>\n",
              "  </thead>\n",
              "  <tbody>\n",
              "    <tr>\n",
              "      <th>0</th>\n",
              "      <td>train_Client_0</td>\n",
              "      <td>2014-03-24</td>\n",
              "      <td>11</td>\n",
              "      <td>1335667</td>\n",
              "      <td>0</td>\n",
              "      <td>203</td>\n",
              "      <td>8</td>\n",
              "      <td>1</td>\n",
              "      <td>82</td>\n",
              "      <td>0</td>\n",
              "      <td>0</td>\n",
              "      <td>0</td>\n",
              "      <td>14302</td>\n",
              "      <td>14384</td>\n",
              "      <td>4</td>\n",
              "      <td>ELEC</td>\n",
              "    </tr>\n",
              "    <tr>\n",
              "      <th>1</th>\n",
              "      <td>train_Client_0</td>\n",
              "      <td>2013-03-29</td>\n",
              "      <td>11</td>\n",
              "      <td>1335667</td>\n",
              "      <td>0</td>\n",
              "      <td>203</td>\n",
              "      <td>6</td>\n",
              "      <td>1</td>\n",
              "      <td>1200</td>\n",
              "      <td>184</td>\n",
              "      <td>0</td>\n",
              "      <td>0</td>\n",
              "      <td>12294</td>\n",
              "      <td>13678</td>\n",
              "      <td>4</td>\n",
              "      <td>ELEC</td>\n",
              "    </tr>\n",
              "    <tr>\n",
              "      <th>2</th>\n",
              "      <td>train_Client_0</td>\n",
              "      <td>2015-03-23</td>\n",
              "      <td>11</td>\n",
              "      <td>1335667</td>\n",
              "      <td>0</td>\n",
              "      <td>203</td>\n",
              "      <td>8</td>\n",
              "      <td>1</td>\n",
              "      <td>123</td>\n",
              "      <td>0</td>\n",
              "      <td>0</td>\n",
              "      <td>0</td>\n",
              "      <td>14624</td>\n",
              "      <td>14747</td>\n",
              "      <td>4</td>\n",
              "      <td>ELEC</td>\n",
              "    </tr>\n",
              "    <tr>\n",
              "      <th>3</th>\n",
              "      <td>train_Client_0</td>\n",
              "      <td>2015-07-13</td>\n",
              "      <td>11</td>\n",
              "      <td>1335667</td>\n",
              "      <td>0</td>\n",
              "      <td>207</td>\n",
              "      <td>8</td>\n",
              "      <td>1</td>\n",
              "      <td>102</td>\n",
              "      <td>0</td>\n",
              "      <td>0</td>\n",
              "      <td>0</td>\n",
              "      <td>14747</td>\n",
              "      <td>14849</td>\n",
              "      <td>4</td>\n",
              "      <td>ELEC</td>\n",
              "    </tr>\n",
              "    <tr>\n",
              "      <th>4</th>\n",
              "      <td>train_Client_0</td>\n",
              "      <td>2016-11-17</td>\n",
              "      <td>11</td>\n",
              "      <td>1335667</td>\n",
              "      <td>0</td>\n",
              "      <td>207</td>\n",
              "      <td>9</td>\n",
              "      <td>1</td>\n",
              "      <td>572</td>\n",
              "      <td>0</td>\n",
              "      <td>0</td>\n",
              "      <td>0</td>\n",
              "      <td>15066</td>\n",
              "      <td>15638</td>\n",
              "      <td>12</td>\n",
              "      <td>ELEC</td>\n",
              "    </tr>\n",
              "    <tr>\n",
              "      <th>...</th>\n",
              "      <td>...</td>\n",
              "      <td>...</td>\n",
              "      <td>...</td>\n",
              "      <td>...</td>\n",
              "      <td>...</td>\n",
              "      <td>...</td>\n",
              "      <td>...</td>\n",
              "      <td>...</td>\n",
              "      <td>...</td>\n",
              "      <td>...</td>\n",
              "      <td>...</td>\n",
              "      <td>...</td>\n",
              "      <td>...</td>\n",
              "      <td>...</td>\n",
              "      <td>...</td>\n",
              "      <td>...</td>\n",
              "    </tr>\n",
              "    <tr>\n",
              "      <th>4476744</th>\n",
              "      <td>train_Client_99998</td>\n",
              "      <td>2005-08-19</td>\n",
              "      <td>10</td>\n",
              "      <td>1253571</td>\n",
              "      <td>0</td>\n",
              "      <td>202</td>\n",
              "      <td>9</td>\n",
              "      <td>1</td>\n",
              "      <td>400</td>\n",
              "      <td>135</td>\n",
              "      <td>0</td>\n",
              "      <td>0</td>\n",
              "      <td>3197</td>\n",
              "      <td>3732</td>\n",
              "      <td>8</td>\n",
              "      <td>ELEC</td>\n",
              "    </tr>\n",
              "    <tr>\n",
              "      <th>4476745</th>\n",
              "      <td>train_Client_99998</td>\n",
              "      <td>2005-12-19</td>\n",
              "      <td>10</td>\n",
              "      <td>1253571</td>\n",
              "      <td>0</td>\n",
              "      <td>202</td>\n",
              "      <td>6</td>\n",
              "      <td>1</td>\n",
              "      <td>200</td>\n",
              "      <td>6</td>\n",
              "      <td>0</td>\n",
              "      <td>0</td>\n",
              "      <td>3732</td>\n",
              "      <td>3938</td>\n",
              "      <td>4</td>\n",
              "      <td>ELEC</td>\n",
              "    </tr>\n",
              "    <tr>\n",
              "      <th>4476746</th>\n",
              "      <td>train_Client_99999</td>\n",
              "      <td>1996-09-25</td>\n",
              "      <td>11</td>\n",
              "      <td>560948</td>\n",
              "      <td>0</td>\n",
              "      <td>203</td>\n",
              "      <td>6</td>\n",
              "      <td>1</td>\n",
              "      <td>259</td>\n",
              "      <td>0</td>\n",
              "      <td>0</td>\n",
              "      <td>0</td>\n",
              "      <td>13884</td>\n",
              "      <td>14143</td>\n",
              "      <td>4</td>\n",
              "      <td>ELEC</td>\n",
              "    </tr>\n",
              "    <tr>\n",
              "      <th>4476747</th>\n",
              "      <td>train_Client_99999</td>\n",
              "      <td>1996-05-28</td>\n",
              "      <td>11</td>\n",
              "      <td>560948</td>\n",
              "      <td>0</td>\n",
              "      <td>203</td>\n",
              "      <td>6</td>\n",
              "      <td>1</td>\n",
              "      <td>603</td>\n",
              "      <td>0</td>\n",
              "      <td>0</td>\n",
              "      <td>0</td>\n",
              "      <td>13281</td>\n",
              "      <td>13884</td>\n",
              "      <td>4</td>\n",
              "      <td>ELEC</td>\n",
              "    </tr>\n",
              "    <tr>\n",
              "      <th>4476748</th>\n",
              "      <td>train_Client_99999</td>\n",
              "      <td>1996-01-25</td>\n",
              "      <td>11</td>\n",
              "      <td>560948</td>\n",
              "      <td>0</td>\n",
              "      <td>203</td>\n",
              "      <td>6</td>\n",
              "      <td>1</td>\n",
              "      <td>516</td>\n",
              "      <td>0</td>\n",
              "      <td>0</td>\n",
              "      <td>0</td>\n",
              "      <td>12765</td>\n",
              "      <td>13281</td>\n",
              "      <td>4</td>\n",
              "      <td>ELEC</td>\n",
              "    </tr>\n",
              "  </tbody>\n",
              "</table>\n",
              "<p>4476749 rows × 16 columns</p>\n",
              "</div>"
            ],
            "text/plain": [
              "                  client_id invoice_date  tarif_type  counter_number  \\\n",
              "0            train_Client_0   2014-03-24          11         1335667   \n",
              "1            train_Client_0   2013-03-29          11         1335667   \n",
              "2            train_Client_0   2015-03-23          11         1335667   \n",
              "3            train_Client_0   2015-07-13          11         1335667   \n",
              "4            train_Client_0   2016-11-17          11         1335667   \n",
              "...                     ...          ...         ...             ...   \n",
              "4476744  train_Client_99998   2005-08-19          10         1253571   \n",
              "4476745  train_Client_99998   2005-12-19          10         1253571   \n",
              "4476746  train_Client_99999   1996-09-25          11          560948   \n",
              "4476747  train_Client_99999   1996-05-28          11          560948   \n",
              "4476748  train_Client_99999   1996-01-25          11          560948   \n",
              "\n",
              "        counter_statue  counter_code  reading_remarque  counter_coefficient  \\\n",
              "0                    0           203                 8                    1   \n",
              "1                    0           203                 6                    1   \n",
              "2                    0           203                 8                    1   \n",
              "3                    0           207                 8                    1   \n",
              "4                    0           207                 9                    1   \n",
              "...                ...           ...               ...                  ...   \n",
              "4476744              0           202                 9                    1   \n",
              "4476745              0           202                 6                    1   \n",
              "4476746              0           203                 6                    1   \n",
              "4476747              0           203                 6                    1   \n",
              "4476748              0           203                 6                    1   \n",
              "\n",
              "         consommation_level_1  consommation_level_2  consommation_level_3  \\\n",
              "0                          82                     0                     0   \n",
              "1                        1200                   184                     0   \n",
              "2                         123                     0                     0   \n",
              "3                         102                     0                     0   \n",
              "4                         572                     0                     0   \n",
              "...                       ...                   ...                   ...   \n",
              "4476744                   400                   135                     0   \n",
              "4476745                   200                     6                     0   \n",
              "4476746                   259                     0                     0   \n",
              "4476747                   603                     0                     0   \n",
              "4476748                   516                     0                     0   \n",
              "\n",
              "         consommation_level_4  old_index  new_index  months_number  \\\n",
              "0                           0      14302      14384              4   \n",
              "1                           0      12294      13678              4   \n",
              "2                           0      14624      14747              4   \n",
              "3                           0      14747      14849              4   \n",
              "4                           0      15066      15638             12   \n",
              "...                       ...        ...        ...            ...   \n",
              "4476744                     0       3197       3732              8   \n",
              "4476745                     0       3732       3938              4   \n",
              "4476746                     0      13884      14143              4   \n",
              "4476747                     0      13281      13884              4   \n",
              "4476748                     0      12765      13281              4   \n",
              "\n",
              "        counter_type  \n",
              "0               ELEC  \n",
              "1               ELEC  \n",
              "2               ELEC  \n",
              "3               ELEC  \n",
              "4               ELEC  \n",
              "...              ...  \n",
              "4476744         ELEC  \n",
              "4476745         ELEC  \n",
              "4476746         ELEC  \n",
              "4476747         ELEC  \n",
              "4476748         ELEC  \n",
              "\n",
              "[4476749 rows x 16 columns]"
            ]
          },
          "execution_count": 15,
          "metadata": {},
          "output_type": "execute_result"
        }
      ],
      "source": [
        "#copy dataset\n",
        "df_invoices = df_invoice.copy()\n",
        "df_invoices"
      ]
    },
    {
      "cell_type": "code",
      "execution_count": 16,
      "metadata": {
        "colab": {
          "base_uri": "https://localhost:8080/"
        },
        "id": "ncrvt_HHWueW",
        "outputId": "94d5ead7-52f5-4846-d39b-c3be81050b8e"
      },
      "outputs": [
        {
          "data": {
            "text/plain": [
              "(4476749, 16)"
            ]
          },
          "execution_count": 16,
          "metadata": {},
          "output_type": "execute_result"
        }
      ],
      "source": [
        "#dataset size\n",
        "df_invoices.shape"
      ]
    },
    {
      "cell_type": "code",
      "execution_count": 17,
      "metadata": {
        "colab": {
          "base_uri": "https://localhost:8080/"
        },
        "id": "OiR3UkpVjinE",
        "outputId": "60ef0b5c-a50b-4fdd-8efd-dd15e8853789"
      },
      "outputs": [
        {
          "name": "stdout",
          "output_type": "stream",
          "text": [
            "<class 'pandas.core.frame.DataFrame'>\n",
            "RangeIndex: 4476749 entries, 0 to 4476748\n",
            "Data columns (total 16 columns):\n",
            " #   Column                Dtype \n",
            "---  ------                ----- \n",
            " 0   client_id             object\n",
            " 1   invoice_date          object\n",
            " 2   tarif_type            int64 \n",
            " 3   counter_number        int64 \n",
            " 4   counter_statue        object\n",
            " 5   counter_code          int64 \n",
            " 6   reading_remarque      int64 \n",
            " 7   counter_coefficient   int64 \n",
            " 8   consommation_level_1  int64 \n",
            " 9   consommation_level_2  int64 \n",
            " 10  consommation_level_3  int64 \n",
            " 11  consommation_level_4  int64 \n",
            " 12  old_index             int64 \n",
            " 13  new_index             int64 \n",
            " 14  months_number         int64 \n",
            " 15  counter_type          object\n",
            "dtypes: int64(12), object(4)\n",
            "memory usage: 546.5+ MB\n"
          ]
        }
      ],
      "source": [
        "# general info\n",
        "df_invoices.info()"
      ]
    },
    {
      "cell_type": "code",
      "execution_count": 18,
      "metadata": {
        "colab": {
          "base_uri": "https://localhost:8080/",
          "height": 425
        },
        "id": "s4ivrofQjmFe",
        "outputId": "15eb03cc-2e93-4c76-f953-8509226c067f"
      },
      "outputs": [
        {
          "data": {
            "text/html": [
              "<div>\n",
              "<style scoped>\n",
              "    .dataframe tbody tr th:only-of-type {\n",
              "        vertical-align: middle;\n",
              "    }\n",
              "\n",
              "    .dataframe tbody tr th {\n",
              "        vertical-align: top;\n",
              "    }\n",
              "\n",
              "    .dataframe thead th {\n",
              "        text-align: right;\n",
              "    }\n",
              "</style>\n",
              "<table border=\"1\" class=\"dataframe\">\n",
              "  <thead>\n",
              "    <tr style=\"text-align: right;\">\n",
              "      <th></th>\n",
              "      <th>count</th>\n",
              "      <th>mean</th>\n",
              "      <th>std</th>\n",
              "      <th>min</th>\n",
              "      <th>25%</th>\n",
              "      <th>50%</th>\n",
              "      <th>75%</th>\n",
              "      <th>max</th>\n",
              "    </tr>\n",
              "  </thead>\n",
              "  <tbody>\n",
              "    <tr>\n",
              "      <th>tarif_type</th>\n",
              "      <td>4476749.0</td>\n",
              "      <td>2.012804e+01</td>\n",
              "      <td>1.347256e+01</td>\n",
              "      <td>8.0</td>\n",
              "      <td>11.0</td>\n",
              "      <td>11.0</td>\n",
              "      <td>40.0</td>\n",
              "      <td>4.500000e+01</td>\n",
              "    </tr>\n",
              "    <tr>\n",
              "      <th>counter_number</th>\n",
              "      <td>4476749.0</td>\n",
              "      <td>1.230587e+11</td>\n",
              "      <td>1.657267e+12</td>\n",
              "      <td>0.0</td>\n",
              "      <td>121108.0</td>\n",
              "      <td>494561.0</td>\n",
              "      <td>1115161.0</td>\n",
              "      <td>2.798115e+13</td>\n",
              "    </tr>\n",
              "    <tr>\n",
              "      <th>counter_code</th>\n",
              "      <td>4476749.0</td>\n",
              "      <td>1.724884e+02</td>\n",
              "      <td>1.338871e+02</td>\n",
              "      <td>0.0</td>\n",
              "      <td>5.0</td>\n",
              "      <td>203.0</td>\n",
              "      <td>207.0</td>\n",
              "      <td>6.000000e+02</td>\n",
              "    </tr>\n",
              "    <tr>\n",
              "      <th>reading_remarque</th>\n",
              "      <td>4476749.0</td>\n",
              "      <td>7.321702e+00</td>\n",
              "      <td>1.571654e+00</td>\n",
              "      <td>5.0</td>\n",
              "      <td>6.0</td>\n",
              "      <td>8.0</td>\n",
              "      <td>9.0</td>\n",
              "      <td>4.130000e+02</td>\n",
              "    </tr>\n",
              "    <tr>\n",
              "      <th>counter_coefficient</th>\n",
              "      <td>4476749.0</td>\n",
              "      <td>1.003040e+00</td>\n",
              "      <td>3.083466e-01</td>\n",
              "      <td>0.0</td>\n",
              "      <td>1.0</td>\n",
              "      <td>1.0</td>\n",
              "      <td>1.0</td>\n",
              "      <td>5.000000e+01</td>\n",
              "    </tr>\n",
              "    <tr>\n",
              "      <th>consommation_level_1</th>\n",
              "      <td>4476749.0</td>\n",
              "      <td>4.109795e+02</td>\n",
              "      <td>7.573080e+02</td>\n",
              "      <td>0.0</td>\n",
              "      <td>79.0</td>\n",
              "      <td>274.0</td>\n",
              "      <td>600.0</td>\n",
              "      <td>9.999100e+05</td>\n",
              "    </tr>\n",
              "    <tr>\n",
              "      <th>consommation_level_2</th>\n",
              "      <td>4476749.0</td>\n",
              "      <td>1.093225e+02</td>\n",
              "      <td>1.220123e+03</td>\n",
              "      <td>0.0</td>\n",
              "      <td>0.0</td>\n",
              "      <td>0.0</td>\n",
              "      <td>0.0</td>\n",
              "      <td>9.990730e+05</td>\n",
              "    </tr>\n",
              "    <tr>\n",
              "      <th>consommation_level_3</th>\n",
              "      <td>4476749.0</td>\n",
              "      <td>2.030620e+01</td>\n",
              "      <td>1.574239e+02</td>\n",
              "      <td>0.0</td>\n",
              "      <td>0.0</td>\n",
              "      <td>0.0</td>\n",
              "      <td>0.0</td>\n",
              "      <td>6.449200e+04</td>\n",
              "    </tr>\n",
              "    <tr>\n",
              "      <th>consommation_level_4</th>\n",
              "      <td>4476749.0</td>\n",
              "      <td>5.292588e+01</td>\n",
              "      <td>8.754725e+02</td>\n",
              "      <td>0.0</td>\n",
              "      <td>0.0</td>\n",
              "      <td>0.0</td>\n",
              "      <td>0.0</td>\n",
              "      <td>5.479460e+05</td>\n",
              "    </tr>\n",
              "    <tr>\n",
              "      <th>old_index</th>\n",
              "      <td>4476749.0</td>\n",
              "      <td>1.776700e+04</td>\n",
              "      <td>4.036693e+04</td>\n",
              "      <td>0.0</td>\n",
              "      <td>1791.0</td>\n",
              "      <td>7690.0</td>\n",
              "      <td>21660.0</td>\n",
              "      <td>2.800280e+06</td>\n",
              "    </tr>\n",
              "    <tr>\n",
              "      <th>new_index</th>\n",
              "      <td>4476749.0</td>\n",
              "      <td>1.834970e+04</td>\n",
              "      <td>4.095321e+04</td>\n",
              "      <td>0.0</td>\n",
              "      <td>2056.0</td>\n",
              "      <td>8192.0</td>\n",
              "      <td>22343.0</td>\n",
              "      <td>2.870972e+06</td>\n",
              "    </tr>\n",
              "    <tr>\n",
              "      <th>months_number</th>\n",
              "      <td>4476749.0</td>\n",
              "      <td>4.483095e+01</td>\n",
              "      <td>3.128335e+03</td>\n",
              "      <td>0.0</td>\n",
              "      <td>4.0</td>\n",
              "      <td>4.0</td>\n",
              "      <td>4.0</td>\n",
              "      <td>6.366240e+05</td>\n",
              "    </tr>\n",
              "  </tbody>\n",
              "</table>\n",
              "</div>"
            ],
            "text/plain": [
              "                          count          mean           std  min       25%  \\\n",
              "tarif_type            4476749.0  2.012804e+01  1.347256e+01  8.0      11.0   \n",
              "counter_number        4476749.0  1.230587e+11  1.657267e+12  0.0  121108.0   \n",
              "counter_code          4476749.0  1.724884e+02  1.338871e+02  0.0       5.0   \n",
              "reading_remarque      4476749.0  7.321702e+00  1.571654e+00  5.0       6.0   \n",
              "counter_coefficient   4476749.0  1.003040e+00  3.083466e-01  0.0       1.0   \n",
              "consommation_level_1  4476749.0  4.109795e+02  7.573080e+02  0.0      79.0   \n",
              "consommation_level_2  4476749.0  1.093225e+02  1.220123e+03  0.0       0.0   \n",
              "consommation_level_3  4476749.0  2.030620e+01  1.574239e+02  0.0       0.0   \n",
              "consommation_level_4  4476749.0  5.292588e+01  8.754725e+02  0.0       0.0   \n",
              "old_index             4476749.0  1.776700e+04  4.036693e+04  0.0    1791.0   \n",
              "new_index             4476749.0  1.834970e+04  4.095321e+04  0.0    2056.0   \n",
              "months_number         4476749.0  4.483095e+01  3.128335e+03  0.0       4.0   \n",
              "\n",
              "                           50%        75%           max  \n",
              "tarif_type                11.0       40.0  4.500000e+01  \n",
              "counter_number        494561.0  1115161.0  2.798115e+13  \n",
              "counter_code             203.0      207.0  6.000000e+02  \n",
              "reading_remarque           8.0        9.0  4.130000e+02  \n",
              "counter_coefficient        1.0        1.0  5.000000e+01  \n",
              "consommation_level_1     274.0      600.0  9.999100e+05  \n",
              "consommation_level_2       0.0        0.0  9.990730e+05  \n",
              "consommation_level_3       0.0        0.0  6.449200e+04  \n",
              "consommation_level_4       0.0        0.0  5.479460e+05  \n",
              "old_index               7690.0    21660.0  2.800280e+06  \n",
              "new_index               8192.0    22343.0  2.870972e+06  \n",
              "months_number              4.0        4.0  6.366240e+05  "
            ]
          },
          "execution_count": 18,
          "metadata": {},
          "output_type": "execute_result"
        }
      ],
      "source": [
        "# descriptive statistics\n",
        "df_invoices.describe().T"
      ]
    },
    {
      "cell_type": "code",
      "execution_count": 19,
      "metadata": {
        "colab": {
          "base_uri": "https://localhost:8080/",
          "height": 571
        },
        "id": "hD2OoAeujrtX",
        "outputId": "ff81392c-52de-4229-9999-cb4d9c581b49"
      },
      "outputs": [
        {
          "data": {
            "text/html": [
              "<div>\n",
              "<style scoped>\n",
              "    .dataframe tbody tr th:only-of-type {\n",
              "        vertical-align: middle;\n",
              "    }\n",
              "\n",
              "    .dataframe tbody tr th {\n",
              "        vertical-align: top;\n",
              "    }\n",
              "\n",
              "    .dataframe thead th {\n",
              "        text-align: right;\n",
              "    }\n",
              "</style>\n",
              "<table border=\"1\" class=\"dataframe\">\n",
              "  <thead>\n",
              "    <tr style=\"text-align: right;\">\n",
              "      <th></th>\n",
              "      <th>count</th>\n",
              "      <th>unique</th>\n",
              "      <th>top</th>\n",
              "      <th>freq</th>\n",
              "      <th>mean</th>\n",
              "      <th>std</th>\n",
              "      <th>min</th>\n",
              "      <th>25%</th>\n",
              "      <th>50%</th>\n",
              "      <th>75%</th>\n",
              "      <th>max</th>\n",
              "    </tr>\n",
              "  </thead>\n",
              "  <tbody>\n",
              "    <tr>\n",
              "      <th>client_id</th>\n",
              "      <td>4476749</td>\n",
              "      <td>135493</td>\n",
              "      <td>train_Client_116878</td>\n",
              "      <td>439</td>\n",
              "      <td>NaN</td>\n",
              "      <td>NaN</td>\n",
              "      <td>NaN</td>\n",
              "      <td>NaN</td>\n",
              "      <td>NaN</td>\n",
              "      <td>NaN</td>\n",
              "      <td>NaN</td>\n",
              "    </tr>\n",
              "    <tr>\n",
              "      <th>invoice_date</th>\n",
              "      <td>4476749</td>\n",
              "      <td>8275</td>\n",
              "      <td>2019-03-09</td>\n",
              "      <td>4127</td>\n",
              "      <td>NaN</td>\n",
              "      <td>NaN</td>\n",
              "      <td>NaN</td>\n",
              "      <td>NaN</td>\n",
              "      <td>NaN</td>\n",
              "      <td>NaN</td>\n",
              "      <td>NaN</td>\n",
              "    </tr>\n",
              "    <tr>\n",
              "      <th>tarif_type</th>\n",
              "      <td>4476749.0</td>\n",
              "      <td>NaN</td>\n",
              "      <td>NaN</td>\n",
              "      <td>NaN</td>\n",
              "      <td>20.128039</td>\n",
              "      <td>13.472556</td>\n",
              "      <td>8.0</td>\n",
              "      <td>11.0</td>\n",
              "      <td>11.0</td>\n",
              "      <td>40.0</td>\n",
              "      <td>45.0</td>\n",
              "    </tr>\n",
              "    <tr>\n",
              "      <th>counter_number</th>\n",
              "      <td>4476749.0</td>\n",
              "      <td>NaN</td>\n",
              "      <td>NaN</td>\n",
              "      <td>NaN</td>\n",
              "      <td>123058699065.183319</td>\n",
              "      <td>1657267274261.926758</td>\n",
              "      <td>0.0</td>\n",
              "      <td>121108.0</td>\n",
              "      <td>494561.0</td>\n",
              "      <td>1115161.0</td>\n",
              "      <td>27981145458733.0</td>\n",
              "    </tr>\n",
              "    <tr>\n",
              "      <th>counter_statue</th>\n",
              "      <td>4476749.0</td>\n",
              "      <td>16.0</td>\n",
              "      <td>0.0</td>\n",
              "      <td>4346960.0</td>\n",
              "      <td>NaN</td>\n",
              "      <td>NaN</td>\n",
              "      <td>NaN</td>\n",
              "      <td>NaN</td>\n",
              "      <td>NaN</td>\n",
              "      <td>NaN</td>\n",
              "      <td>NaN</td>\n",
              "    </tr>\n",
              "    <tr>\n",
              "      <th>counter_code</th>\n",
              "      <td>4476749.0</td>\n",
              "      <td>NaN</td>\n",
              "      <td>NaN</td>\n",
              "      <td>NaN</td>\n",
              "      <td>172.48843</td>\n",
              "      <td>133.8871</td>\n",
              "      <td>0.0</td>\n",
              "      <td>5.0</td>\n",
              "      <td>203.0</td>\n",
              "      <td>207.0</td>\n",
              "      <td>600.0</td>\n",
              "    </tr>\n",
              "    <tr>\n",
              "      <th>reading_remarque</th>\n",
              "      <td>4476749.0</td>\n",
              "      <td>NaN</td>\n",
              "      <td>NaN</td>\n",
              "      <td>NaN</td>\n",
              "      <td>7.321702</td>\n",
              "      <td>1.571654</td>\n",
              "      <td>5.0</td>\n",
              "      <td>6.0</td>\n",
              "      <td>8.0</td>\n",
              "      <td>9.0</td>\n",
              "      <td>413.0</td>\n",
              "    </tr>\n",
              "    <tr>\n",
              "      <th>counter_coefficient</th>\n",
              "      <td>4476749.0</td>\n",
              "      <td>NaN</td>\n",
              "      <td>NaN</td>\n",
              "      <td>NaN</td>\n",
              "      <td>1.00304</td>\n",
              "      <td>0.308347</td>\n",
              "      <td>0.0</td>\n",
              "      <td>1.0</td>\n",
              "      <td>1.0</td>\n",
              "      <td>1.0</td>\n",
              "      <td>50.0</td>\n",
              "    </tr>\n",
              "    <tr>\n",
              "      <th>consommation_level_1</th>\n",
              "      <td>4476749.0</td>\n",
              "      <td>NaN</td>\n",
              "      <td>NaN</td>\n",
              "      <td>NaN</td>\n",
              "      <td>410.979495</td>\n",
              "      <td>757.307998</td>\n",
              "      <td>0.0</td>\n",
              "      <td>79.0</td>\n",
              "      <td>274.0</td>\n",
              "      <td>600.0</td>\n",
              "      <td>999910.0</td>\n",
              "    </tr>\n",
              "    <tr>\n",
              "      <th>consommation_level_2</th>\n",
              "      <td>4476749.0</td>\n",
              "      <td>NaN</td>\n",
              "      <td>NaN</td>\n",
              "      <td>NaN</td>\n",
              "      <td>109.322476</td>\n",
              "      <td>1220.123335</td>\n",
              "      <td>0.0</td>\n",
              "      <td>0.0</td>\n",
              "      <td>0.0</td>\n",
              "      <td>0.0</td>\n",
              "      <td>999073.0</td>\n",
              "    </tr>\n",
              "    <tr>\n",
              "      <th>consommation_level_3</th>\n",
              "      <td>4476749.0</td>\n",
              "      <td>NaN</td>\n",
              "      <td>NaN</td>\n",
              "      <td>NaN</td>\n",
              "      <td>20.306204</td>\n",
              "      <td>157.423938</td>\n",
              "      <td>0.0</td>\n",
              "      <td>0.0</td>\n",
              "      <td>0.0</td>\n",
              "      <td>0.0</td>\n",
              "      <td>64492.0</td>\n",
              "    </tr>\n",
              "    <tr>\n",
              "      <th>consommation_level_4</th>\n",
              "      <td>4476749.0</td>\n",
              "      <td>NaN</td>\n",
              "      <td>NaN</td>\n",
              "      <td>NaN</td>\n",
              "      <td>52.925881</td>\n",
              "      <td>875.472477</td>\n",
              "      <td>0.0</td>\n",
              "      <td>0.0</td>\n",
              "      <td>0.0</td>\n",
              "      <td>0.0</td>\n",
              "      <td>547946.0</td>\n",
              "    </tr>\n",
              "    <tr>\n",
              "      <th>old_index</th>\n",
              "      <td>4476749.0</td>\n",
              "      <td>NaN</td>\n",
              "      <td>NaN</td>\n",
              "      <td>NaN</td>\n",
              "      <td>17766.998257</td>\n",
              "      <td>40366.925611</td>\n",
              "      <td>0.0</td>\n",
              "      <td>1791.0</td>\n",
              "      <td>7690.0</td>\n",
              "      <td>21660.0</td>\n",
              "      <td>2800280.0</td>\n",
              "    </tr>\n",
              "    <tr>\n",
              "      <th>new_index</th>\n",
              "      <td>4476749.0</td>\n",
              "      <td>NaN</td>\n",
              "      <td>NaN</td>\n",
              "      <td>NaN</td>\n",
              "      <td>18349.704625</td>\n",
              "      <td>40953.206252</td>\n",
              "      <td>0.0</td>\n",
              "      <td>2056.0</td>\n",
              "      <td>8192.0</td>\n",
              "      <td>22343.0</td>\n",
              "      <td>2870972.0</td>\n",
              "    </tr>\n",
              "    <tr>\n",
              "      <th>months_number</th>\n",
              "      <td>4476749.0</td>\n",
              "      <td>NaN</td>\n",
              "      <td>NaN</td>\n",
              "      <td>NaN</td>\n",
              "      <td>44.830947</td>\n",
              "      <td>3128.335385</td>\n",
              "      <td>0.0</td>\n",
              "      <td>4.0</td>\n",
              "      <td>4.0</td>\n",
              "      <td>4.0</td>\n",
              "      <td>636624.0</td>\n",
              "    </tr>\n",
              "    <tr>\n",
              "      <th>counter_type</th>\n",
              "      <td>4476749</td>\n",
              "      <td>2</td>\n",
              "      <td>ELEC</td>\n",
              "      <td>3079406</td>\n",
              "      <td>NaN</td>\n",
              "      <td>NaN</td>\n",
              "      <td>NaN</td>\n",
              "      <td>NaN</td>\n",
              "      <td>NaN</td>\n",
              "      <td>NaN</td>\n",
              "      <td>NaN</td>\n",
              "    </tr>\n",
              "  </tbody>\n",
              "</table>\n",
              "</div>"
            ],
            "text/plain": [
              "                          count  unique                  top       freq  \\\n",
              "client_id               4476749  135493  train_Client_116878        439   \n",
              "invoice_date            4476749    8275           2019-03-09       4127   \n",
              "tarif_type            4476749.0     NaN                  NaN        NaN   \n",
              "counter_number        4476749.0     NaN                  NaN        NaN   \n",
              "counter_statue        4476749.0    16.0                  0.0  4346960.0   \n",
              "counter_code          4476749.0     NaN                  NaN        NaN   \n",
              "reading_remarque      4476749.0     NaN                  NaN        NaN   \n",
              "counter_coefficient   4476749.0     NaN                  NaN        NaN   \n",
              "consommation_level_1  4476749.0     NaN                  NaN        NaN   \n",
              "consommation_level_2  4476749.0     NaN                  NaN        NaN   \n",
              "consommation_level_3  4476749.0     NaN                  NaN        NaN   \n",
              "consommation_level_4  4476749.0     NaN                  NaN        NaN   \n",
              "old_index             4476749.0     NaN                  NaN        NaN   \n",
              "new_index             4476749.0     NaN                  NaN        NaN   \n",
              "months_number         4476749.0     NaN                  NaN        NaN   \n",
              "counter_type            4476749       2                 ELEC    3079406   \n",
              "\n",
              "                                     mean                   std  min  \\\n",
              "client_id                             NaN                   NaN  NaN   \n",
              "invoice_date                          NaN                   NaN  NaN   \n",
              "tarif_type                      20.128039             13.472556  8.0   \n",
              "counter_number        123058699065.183319  1657267274261.926758  0.0   \n",
              "counter_statue                        NaN                   NaN  NaN   \n",
              "counter_code                    172.48843              133.8871  0.0   \n",
              "reading_remarque                 7.321702              1.571654  5.0   \n",
              "counter_coefficient               1.00304              0.308347  0.0   \n",
              "consommation_level_1           410.979495            757.307998  0.0   \n",
              "consommation_level_2           109.322476           1220.123335  0.0   \n",
              "consommation_level_3            20.306204            157.423938  0.0   \n",
              "consommation_level_4            52.925881            875.472477  0.0   \n",
              "old_index                    17766.998257          40366.925611  0.0   \n",
              "new_index                    18349.704625          40953.206252  0.0   \n",
              "months_number                   44.830947           3128.335385  0.0   \n",
              "counter_type                          NaN                   NaN  NaN   \n",
              "\n",
              "                           25%       50%        75%               max  \n",
              "client_id                  NaN       NaN        NaN               NaN  \n",
              "invoice_date               NaN       NaN        NaN               NaN  \n",
              "tarif_type                11.0      11.0       40.0              45.0  \n",
              "counter_number        121108.0  494561.0  1115161.0  27981145458733.0  \n",
              "counter_statue             NaN       NaN        NaN               NaN  \n",
              "counter_code               5.0     203.0      207.0             600.0  \n",
              "reading_remarque           6.0       8.0        9.0             413.0  \n",
              "counter_coefficient        1.0       1.0        1.0              50.0  \n",
              "consommation_level_1      79.0     274.0      600.0          999910.0  \n",
              "consommation_level_2       0.0       0.0        0.0          999073.0  \n",
              "consommation_level_3       0.0       0.0        0.0           64492.0  \n",
              "consommation_level_4       0.0       0.0        0.0          547946.0  \n",
              "old_index               1791.0    7690.0    21660.0         2800280.0  \n",
              "new_index               2056.0    8192.0    22343.0         2870972.0  \n",
              "months_number              4.0       4.0        4.0          636624.0  \n",
              "counter_type               NaN       NaN        NaN               NaN  "
            ]
          },
          "execution_count": 19,
          "metadata": {},
          "output_type": "execute_result"
        }
      ],
      "source": [
        "df_invoices.describe(include='all').T"
      ]
    },
    {
      "cell_type": "code",
      "execution_count": 20,
      "metadata": {
        "colab": {
          "base_uri": "https://localhost:8080/",
          "height": 585
        },
        "id": "NiiHUME8jtzV",
        "outputId": "b3df0dc9-2743-46f0-d4cf-0a86e7f3b57e"
      },
      "outputs": [
        {
          "data": {
            "text/plain": [
              "client_id               0\n",
              "invoice_date            0\n",
              "tarif_type              0\n",
              "counter_number          0\n",
              "counter_statue          0\n",
              "counter_code            0\n",
              "reading_remarque        0\n",
              "counter_coefficient     0\n",
              "consommation_level_1    0\n",
              "consommation_level_2    0\n",
              "consommation_level_3    0\n",
              "consommation_level_4    0\n",
              "old_index               0\n",
              "new_index               0\n",
              "months_number           0\n",
              "counter_type            0\n",
              "dtype: int64"
            ]
          },
          "execution_count": 20,
          "metadata": {},
          "output_type": "execute_result"
        }
      ],
      "source": [
        "df_invoices.isnull().sum()"
      ]
    },
    {
      "cell_type": "code",
      "execution_count": 21,
      "metadata": {
        "colab": {
          "base_uri": "https://localhost:8080/"
        },
        "id": "DFBdWrsojy0C",
        "outputId": "2a47af85-8288-421d-c656-ef1f145226a3"
      },
      "outputs": [
        {
          "name": "stdout",
          "output_type": "stream",
          "text": [
            "number of duplicated =  11\n"
          ]
        }
      ],
      "source": [
        "# duplicates\n",
        "duplicate = df_invoices.duplicated().sum()\n",
        "print(f\"number of duplicated = \",duplicate)"
      ]
    },
    {
      "cell_type": "code",
      "execution_count": 22,
      "metadata": {
        "colab": {
          "base_uri": "https://localhost:8080/"
        },
        "id": "kxQ7DGpIn4-V",
        "outputId": "e61bb887-4335-4a22-d7b5-d09c9b670c3f"
      },
      "outputs": [
        {
          "name": "stdout",
          "output_type": "stream",
          "text": [
            "number of duplicated =  None\n"
          ]
        }
      ],
      "source": [
        "# drop duplicates\n",
        "df_d = df_invoices.drop_duplicates(inplace=True)\n",
        "print(f\"number of duplicated = \",df_d)"
      ]
    },
    {
      "cell_type": "code",
      "execution_count": 23,
      "metadata": {
        "colab": {
          "base_uri": "https://localhost:8080/"
        },
        "id": "EV-8gJl6kCro",
        "outputId": "6fc4e480-c75f-4cf4-b765-be32e1e12e55"
      },
      "outputs": [
        {
          "name": "stdout",
          "output_type": "stream",
          "text": [
            "counter_number\n",
            "0                43161\n",
            "2786               251\n",
            "630317             230\n",
            "162709             226\n",
            "963                220\n",
            "                 ...  \n",
            "306104               1\n",
            "4920158              1\n",
            "431951               1\n",
            "2188701271500        1\n",
            "375249               1\n",
            "Name: count, Length: 201893, dtype: int64\n"
          ]
        }
      ],
      "source": [
        "unique_count = df_invoices['counter_number'].value_counts()\n",
        "print(unique_count)"
      ]
    },
    {
      "cell_type": "markdown",
      "metadata": {
        "id": "OMVie5WO4iJy"
      },
      "source": [
        "## **Cleaning**\n",
        "\n",
        "\n",
        "* counter status row\n",
        "\n",
        "\n",
        "*  drop client id , reading_remarque\n",
        "\n",
        "* cleaning outliers values or transform skwed columns and spelling district colunm\n",
        "\n",
        "target col dtypes change\n",
        "\n",
        "rename consumption level"
      ]
    },
    {
      "cell_type": "markdown",
      "metadata": {
        "id": "MaD0d7ajH0b6"
      },
      "source": [
        "## **MERGE DATASETS**"
      ]
    },
    {
      "cell_type": "code",
      "execution_count": 24,
      "metadata": {
        "colab": {
          "base_uri": "https://localhost:8080/",
          "height": 443
        },
        "id": "lVDOPFztH9tB",
        "outputId": "302a25fe-3aaf-46ff-ce26-714cdddf4b35"
      },
      "outputs": [
        {
          "data": {
            "text/html": [
              "<div>\n",
              "<style scoped>\n",
              "    .dataframe tbody tr th:only-of-type {\n",
              "        vertical-align: middle;\n",
              "    }\n",
              "\n",
              "    .dataframe tbody tr th {\n",
              "        vertical-align: top;\n",
              "    }\n",
              "\n",
              "    .dataframe thead th {\n",
              "        text-align: right;\n",
              "    }\n",
              "</style>\n",
              "<table border=\"1\" class=\"dataframe\">\n",
              "  <thead>\n",
              "    <tr style=\"text-align: right;\">\n",
              "      <th></th>\n",
              "      <th>client_id</th>\n",
              "      <th>invoice_date</th>\n",
              "      <th>tarif_type</th>\n",
              "      <th>counter_number</th>\n",
              "      <th>counter_statue</th>\n",
              "      <th>counter_code</th>\n",
              "      <th>reading_remarque</th>\n",
              "      <th>counter_coefficient</th>\n",
              "      <th>consommation_level_1</th>\n",
              "      <th>consommation_level_2</th>\n",
              "      <th>...</th>\n",
              "      <th>consommation_level_4</th>\n",
              "      <th>old_index</th>\n",
              "      <th>new_index</th>\n",
              "      <th>months_number</th>\n",
              "      <th>counter_type</th>\n",
              "      <th>disrict</th>\n",
              "      <th>client_catg</th>\n",
              "      <th>region</th>\n",
              "      <th>creation_date</th>\n",
              "      <th>target</th>\n",
              "    </tr>\n",
              "  </thead>\n",
              "  <tbody>\n",
              "    <tr>\n",
              "      <th>0</th>\n",
              "      <td>train_Client_0</td>\n",
              "      <td>2014-03-24</td>\n",
              "      <td>11</td>\n",
              "      <td>1335667</td>\n",
              "      <td>0</td>\n",
              "      <td>203</td>\n",
              "      <td>8</td>\n",
              "      <td>1</td>\n",
              "      <td>82</td>\n",
              "      <td>0</td>\n",
              "      <td>...</td>\n",
              "      <td>0</td>\n",
              "      <td>14302</td>\n",
              "      <td>14384</td>\n",
              "      <td>4</td>\n",
              "      <td>ELEC</td>\n",
              "      <td>60</td>\n",
              "      <td>11</td>\n",
              "      <td>101</td>\n",
              "      <td>31/12/1994</td>\n",
              "      <td>0.0</td>\n",
              "    </tr>\n",
              "    <tr>\n",
              "      <th>1</th>\n",
              "      <td>train_Client_0</td>\n",
              "      <td>2013-03-29</td>\n",
              "      <td>11</td>\n",
              "      <td>1335667</td>\n",
              "      <td>0</td>\n",
              "      <td>203</td>\n",
              "      <td>6</td>\n",
              "      <td>1</td>\n",
              "      <td>1200</td>\n",
              "      <td>184</td>\n",
              "      <td>...</td>\n",
              "      <td>0</td>\n",
              "      <td>12294</td>\n",
              "      <td>13678</td>\n",
              "      <td>4</td>\n",
              "      <td>ELEC</td>\n",
              "      <td>60</td>\n",
              "      <td>11</td>\n",
              "      <td>101</td>\n",
              "      <td>31/12/1994</td>\n",
              "      <td>0.0</td>\n",
              "    </tr>\n",
              "    <tr>\n",
              "      <th>2</th>\n",
              "      <td>train_Client_0</td>\n",
              "      <td>2015-03-23</td>\n",
              "      <td>11</td>\n",
              "      <td>1335667</td>\n",
              "      <td>0</td>\n",
              "      <td>203</td>\n",
              "      <td>8</td>\n",
              "      <td>1</td>\n",
              "      <td>123</td>\n",
              "      <td>0</td>\n",
              "      <td>...</td>\n",
              "      <td>0</td>\n",
              "      <td>14624</td>\n",
              "      <td>14747</td>\n",
              "      <td>4</td>\n",
              "      <td>ELEC</td>\n",
              "      <td>60</td>\n",
              "      <td>11</td>\n",
              "      <td>101</td>\n",
              "      <td>31/12/1994</td>\n",
              "      <td>0.0</td>\n",
              "    </tr>\n",
              "    <tr>\n",
              "      <th>3</th>\n",
              "      <td>train_Client_0</td>\n",
              "      <td>2015-07-13</td>\n",
              "      <td>11</td>\n",
              "      <td>1335667</td>\n",
              "      <td>0</td>\n",
              "      <td>207</td>\n",
              "      <td>8</td>\n",
              "      <td>1</td>\n",
              "      <td>102</td>\n",
              "      <td>0</td>\n",
              "      <td>...</td>\n",
              "      <td>0</td>\n",
              "      <td>14747</td>\n",
              "      <td>14849</td>\n",
              "      <td>4</td>\n",
              "      <td>ELEC</td>\n",
              "      <td>60</td>\n",
              "      <td>11</td>\n",
              "      <td>101</td>\n",
              "      <td>31/12/1994</td>\n",
              "      <td>0.0</td>\n",
              "    </tr>\n",
              "    <tr>\n",
              "      <th>4</th>\n",
              "      <td>train_Client_0</td>\n",
              "      <td>2016-11-17</td>\n",
              "      <td>11</td>\n",
              "      <td>1335667</td>\n",
              "      <td>0</td>\n",
              "      <td>207</td>\n",
              "      <td>9</td>\n",
              "      <td>1</td>\n",
              "      <td>572</td>\n",
              "      <td>0</td>\n",
              "      <td>...</td>\n",
              "      <td>0</td>\n",
              "      <td>15066</td>\n",
              "      <td>15638</td>\n",
              "      <td>12</td>\n",
              "      <td>ELEC</td>\n",
              "      <td>60</td>\n",
              "      <td>11</td>\n",
              "      <td>101</td>\n",
              "      <td>31/12/1994</td>\n",
              "      <td>0.0</td>\n",
              "    </tr>\n",
              "    <tr>\n",
              "      <th>...</th>\n",
              "      <td>...</td>\n",
              "      <td>...</td>\n",
              "      <td>...</td>\n",
              "      <td>...</td>\n",
              "      <td>...</td>\n",
              "      <td>...</td>\n",
              "      <td>...</td>\n",
              "      <td>...</td>\n",
              "      <td>...</td>\n",
              "      <td>...</td>\n",
              "      <td>...</td>\n",
              "      <td>...</td>\n",
              "      <td>...</td>\n",
              "      <td>...</td>\n",
              "      <td>...</td>\n",
              "      <td>...</td>\n",
              "      <td>...</td>\n",
              "      <td>...</td>\n",
              "      <td>...</td>\n",
              "      <td>...</td>\n",
              "      <td>...</td>\n",
              "    </tr>\n",
              "    <tr>\n",
              "      <th>4476733</th>\n",
              "      <td>train_Client_99998</td>\n",
              "      <td>2005-08-19</td>\n",
              "      <td>10</td>\n",
              "      <td>1253571</td>\n",
              "      <td>0</td>\n",
              "      <td>202</td>\n",
              "      <td>9</td>\n",
              "      <td>1</td>\n",
              "      <td>400</td>\n",
              "      <td>135</td>\n",
              "      <td>...</td>\n",
              "      <td>0</td>\n",
              "      <td>3197</td>\n",
              "      <td>3732</td>\n",
              "      <td>8</td>\n",
              "      <td>ELEC</td>\n",
              "      <td>60</td>\n",
              "      <td>11</td>\n",
              "      <td>101</td>\n",
              "      <td>22/12/1993</td>\n",
              "      <td>0.0</td>\n",
              "    </tr>\n",
              "    <tr>\n",
              "      <th>4476734</th>\n",
              "      <td>train_Client_99998</td>\n",
              "      <td>2005-12-19</td>\n",
              "      <td>10</td>\n",
              "      <td>1253571</td>\n",
              "      <td>0</td>\n",
              "      <td>202</td>\n",
              "      <td>6</td>\n",
              "      <td>1</td>\n",
              "      <td>200</td>\n",
              "      <td>6</td>\n",
              "      <td>...</td>\n",
              "      <td>0</td>\n",
              "      <td>3732</td>\n",
              "      <td>3938</td>\n",
              "      <td>4</td>\n",
              "      <td>ELEC</td>\n",
              "      <td>60</td>\n",
              "      <td>11</td>\n",
              "      <td>101</td>\n",
              "      <td>22/12/1993</td>\n",
              "      <td>0.0</td>\n",
              "    </tr>\n",
              "    <tr>\n",
              "      <th>4476735</th>\n",
              "      <td>train_Client_99999</td>\n",
              "      <td>1996-09-25</td>\n",
              "      <td>11</td>\n",
              "      <td>560948</td>\n",
              "      <td>0</td>\n",
              "      <td>203</td>\n",
              "      <td>6</td>\n",
              "      <td>1</td>\n",
              "      <td>259</td>\n",
              "      <td>0</td>\n",
              "      <td>...</td>\n",
              "      <td>0</td>\n",
              "      <td>13884</td>\n",
              "      <td>14143</td>\n",
              "      <td>4</td>\n",
              "      <td>ELEC</td>\n",
              "      <td>60</td>\n",
              "      <td>11</td>\n",
              "      <td>101</td>\n",
              "      <td>18/02/1986</td>\n",
              "      <td>0.0</td>\n",
              "    </tr>\n",
              "    <tr>\n",
              "      <th>4476736</th>\n",
              "      <td>train_Client_99999</td>\n",
              "      <td>1996-05-28</td>\n",
              "      <td>11</td>\n",
              "      <td>560948</td>\n",
              "      <td>0</td>\n",
              "      <td>203</td>\n",
              "      <td>6</td>\n",
              "      <td>1</td>\n",
              "      <td>603</td>\n",
              "      <td>0</td>\n",
              "      <td>...</td>\n",
              "      <td>0</td>\n",
              "      <td>13281</td>\n",
              "      <td>13884</td>\n",
              "      <td>4</td>\n",
              "      <td>ELEC</td>\n",
              "      <td>60</td>\n",
              "      <td>11</td>\n",
              "      <td>101</td>\n",
              "      <td>18/02/1986</td>\n",
              "      <td>0.0</td>\n",
              "    </tr>\n",
              "    <tr>\n",
              "      <th>4476737</th>\n",
              "      <td>train_Client_99999</td>\n",
              "      <td>1996-01-25</td>\n",
              "      <td>11</td>\n",
              "      <td>560948</td>\n",
              "      <td>0</td>\n",
              "      <td>203</td>\n",
              "      <td>6</td>\n",
              "      <td>1</td>\n",
              "      <td>516</td>\n",
              "      <td>0</td>\n",
              "      <td>...</td>\n",
              "      <td>0</td>\n",
              "      <td>12765</td>\n",
              "      <td>13281</td>\n",
              "      <td>4</td>\n",
              "      <td>ELEC</td>\n",
              "      <td>60</td>\n",
              "      <td>11</td>\n",
              "      <td>101</td>\n",
              "      <td>18/02/1986</td>\n",
              "      <td>0.0</td>\n",
              "    </tr>\n",
              "  </tbody>\n",
              "</table>\n",
              "<p>4476738 rows × 21 columns</p>\n",
              "</div>"
            ],
            "text/plain": [
              "                  client_id invoice_date  tarif_type  counter_number  \\\n",
              "0            train_Client_0   2014-03-24          11         1335667   \n",
              "1            train_Client_0   2013-03-29          11         1335667   \n",
              "2            train_Client_0   2015-03-23          11         1335667   \n",
              "3            train_Client_0   2015-07-13          11         1335667   \n",
              "4            train_Client_0   2016-11-17          11         1335667   \n",
              "...                     ...          ...         ...             ...   \n",
              "4476733  train_Client_99998   2005-08-19          10         1253571   \n",
              "4476734  train_Client_99998   2005-12-19          10         1253571   \n",
              "4476735  train_Client_99999   1996-09-25          11          560948   \n",
              "4476736  train_Client_99999   1996-05-28          11          560948   \n",
              "4476737  train_Client_99999   1996-01-25          11          560948   \n",
              "\n",
              "        counter_statue  counter_code  reading_remarque  counter_coefficient  \\\n",
              "0                    0           203                 8                    1   \n",
              "1                    0           203                 6                    1   \n",
              "2                    0           203                 8                    1   \n",
              "3                    0           207                 8                    1   \n",
              "4                    0           207                 9                    1   \n",
              "...                ...           ...               ...                  ...   \n",
              "4476733              0           202                 9                    1   \n",
              "4476734              0           202                 6                    1   \n",
              "4476735              0           203                 6                    1   \n",
              "4476736              0           203                 6                    1   \n",
              "4476737              0           203                 6                    1   \n",
              "\n",
              "         consommation_level_1  consommation_level_2  ...  \\\n",
              "0                          82                     0  ...   \n",
              "1                        1200                   184  ...   \n",
              "2                         123                     0  ...   \n",
              "3                         102                     0  ...   \n",
              "4                         572                     0  ...   \n",
              "...                       ...                   ...  ...   \n",
              "4476733                   400                   135  ...   \n",
              "4476734                   200                     6  ...   \n",
              "4476735                   259                     0  ...   \n",
              "4476736                   603                     0  ...   \n",
              "4476737                   516                     0  ...   \n",
              "\n",
              "         consommation_level_4  old_index  new_index  months_number  \\\n",
              "0                           0      14302      14384              4   \n",
              "1                           0      12294      13678              4   \n",
              "2                           0      14624      14747              4   \n",
              "3                           0      14747      14849              4   \n",
              "4                           0      15066      15638             12   \n",
              "...                       ...        ...        ...            ...   \n",
              "4476733                     0       3197       3732              8   \n",
              "4476734                     0       3732       3938              4   \n",
              "4476735                     0      13884      14143              4   \n",
              "4476736                     0      13281      13884              4   \n",
              "4476737                     0      12765      13281              4   \n",
              "\n",
              "         counter_type disrict  client_catg  region  creation_date target  \n",
              "0                ELEC      60           11     101     31/12/1994    0.0  \n",
              "1                ELEC      60           11     101     31/12/1994    0.0  \n",
              "2                ELEC      60           11     101     31/12/1994    0.0  \n",
              "3                ELEC      60           11     101     31/12/1994    0.0  \n",
              "4                ELEC      60           11     101     31/12/1994    0.0  \n",
              "...               ...     ...          ...     ...            ...    ...  \n",
              "4476733          ELEC      60           11     101     22/12/1993    0.0  \n",
              "4476734          ELEC      60           11     101     22/12/1993    0.0  \n",
              "4476735          ELEC      60           11     101     18/02/1986    0.0  \n",
              "4476736          ELEC      60           11     101     18/02/1986    0.0  \n",
              "4476737          ELEC      60           11     101     18/02/1986    0.0  \n",
              "\n",
              "[4476738 rows x 21 columns]"
            ]
          },
          "execution_count": 24,
          "metadata": {},
          "output_type": "execute_result"
        }
      ],
      "source": [
        "df = pd.merge(df_invoices,df_clients,on =\"client_id\",how=\"inner\")\n",
        "df"
      ]
    },
    {
      "cell_type": "code",
      "execution_count": 25,
      "metadata": {
        "colab": {
          "base_uri": "https://localhost:8080/"
        },
        "id": "gSf_u9Y6I4Xy",
        "outputId": "75f7868a-5068-4083-c2b6-adcc6aad5a1b"
      },
      "outputs": [
        {
          "name": "stdout",
          "output_type": "stream",
          "text": [
            "<class 'pandas.core.frame.DataFrame'>\n",
            "RangeIndex: 4476738 entries, 0 to 4476737\n",
            "Data columns (total 21 columns):\n",
            " #   Column                Dtype  \n",
            "---  ------                -----  \n",
            " 0   client_id             object \n",
            " 1   invoice_date          object \n",
            " 2   tarif_type            int64  \n",
            " 3   counter_number        int64  \n",
            " 4   counter_statue        object \n",
            " 5   counter_code          int64  \n",
            " 6   reading_remarque      int64  \n",
            " 7   counter_coefficient   int64  \n",
            " 8   consommation_level_1  int64  \n",
            " 9   consommation_level_2  int64  \n",
            " 10  consommation_level_3  int64  \n",
            " 11  consommation_level_4  int64  \n",
            " 12  old_index             int64  \n",
            " 13  new_index             int64  \n",
            " 14  months_number         int64  \n",
            " 15  counter_type          object \n",
            " 16  disrict               int64  \n",
            " 17  client_catg           int64  \n",
            " 18  region                int64  \n",
            " 19  creation_date         object \n",
            " 20  target                float64\n",
            "dtypes: float64(1), int64(15), object(5)\n",
            "memory usage: 717.3+ MB\n"
          ]
        }
      ],
      "source": [
        "df.info()"
      ]
    },
    {
      "cell_type": "markdown",
      "metadata": {
        "id": "ZfKGbhczJCrw"
      },
      "source": [
        "## Univariate analysis"
      ]
    },
    {
      "cell_type": "code",
      "execution_count": 26,
      "metadata": {
        "colab": {
          "base_uri": "https://localhost:8080/",
          "height": 1000
        },
        "id": "XRRU0ezCJSAF",
        "outputId": "33b9ab01-614a-4406-c83b-8d9f6bda566b"
      },
      "outputs": [
        {
          "data": {
            "image/png": "[encoded data removed]",
            "text/plain": [
              "<Figure size 1200x1400 with 16 Axes>"
            ]
          },
          "metadata": {},
          "output_type": "display_data"
        }
      ],
      "source": [
        "df.hist(figsize=(12,14),color=\"skyblue\", grid=False)\n",
        "plt.suptitle(\"Histogram Distribution Plots\", fontsize=16, fontweight=\"bold\")\n",
        "plt.show()"
      ]
    },
    {
      "cell_type": "markdown",
      "metadata": {
        "id": "vRx9wwmt4oKY"
      },
      "source": [
        " The histograms illustrate the frequency distribution of continuous numerical features. A majority of data points are concentrated around 0, indicating a negative skew in the data. To address this skewness, feature transformation techniques should be applied"
      ]
    },
    {
      "cell_type": "code",
      "execution_count": 27,
      "metadata": {
        "colab": {
          "base_uri": "https://localhost:8080/",
          "height": 1000
        },
        "id": "kfKEW2xTMrxW",
        "outputId": "750f9ca0-c250-4907-cb6e-05434872356a"
      },
      "outputs": [
        {
          "data": {
            "image/png": "[encoded data removed]",
            "text/plain": [
              "<Figure size 1000x600 with 1 Axes>"
            ]
          },
          "metadata": {},
          "output_type": "display_data"
        },
        {
          "data": {
            "image/png": "[encoded data removed]",
            "text/plain": [
              "<Figure size 1000x600 with 1 Axes>"
            ]
          },
          "metadata": {},
          "output_type": "display_data"
        }
      ],
      "source": [
        "# Distribution of Target and Counter Type\n",
        "#target\n",
        "plt.figure(figsize=(10,6))\n",
        "sns.countplot(data= df,x=\"target\",color = \"skyblue\")\n",
        "plt.title(\"Distrubution of target\")\n",
        "plt.show()\n",
        "#counter_type\n",
        "plt.figure(figsize=(10,6))\n",
        "sns.countplot(data=df,x=\"counter_type\",color = \"skyblue\")\n",
        "plt.title(\"Distrubution of counter_type\")\n",
        "plt.show()"
      ]
    },
    {
      "cell_type": "markdown",
      "metadata": {
        "id": "AnaZCgfU28Yu"
      },
      "source": [
        "Countplots are used to visualize the frequency of each unique value within a categorical variable. In this case, we used countplots to examine the distribution of 'target' and 'counter_type'. The resulting plots show that both 'target' and 'counter_type' are positively skewed, meaning the majority of data points are concentrated towards the lower end of their value ranges with a tail extending towards higher values."
      ]
    },
    {
      "cell_type": "markdown",
      "metadata": {
        "id": "jPRou0yn9ItF"
      },
      "source": [
        "### Bi-variate Analysis"
      ]
    },
    {
      "cell_type": "code",
      "execution_count": 28,
      "metadata": {
        "colab": {
          "base_uri": "https://localhost:8080/",
          "height": 571
        },
        "id": "KujnGhr19J_G",
        "outputId": "19512749-ed8c-4791-f2dc-515e913421fe"
      },
      "outputs": [
        {
          "data": {
            "text/html": [
              "<div>\n",
              "<style scoped>\n",
              "    .dataframe tbody tr th:only-of-type {\n",
              "        vertical-align: middle;\n",
              "    }\n",
              "\n",
              "    .dataframe tbody tr th {\n",
              "        vertical-align: top;\n",
              "    }\n",
              "\n",
              "    .dataframe thead th {\n",
              "        text-align: right;\n",
              "    }\n",
              "</style>\n",
              "<table border=\"1\" class=\"dataframe\">\n",
              "  <thead>\n",
              "    <tr style=\"text-align: right;\">\n",
              "      <th></th>\n",
              "      <th>tarif_type</th>\n",
              "      <th>counter_number</th>\n",
              "      <th>counter_code</th>\n",
              "      <th>reading_remarque</th>\n",
              "      <th>counter_coefficient</th>\n",
              "      <th>consommation_level_1</th>\n",
              "      <th>consommation_level_2</th>\n",
              "      <th>consommation_level_3</th>\n",
              "      <th>consommation_level_4</th>\n",
              "      <th>old_index</th>\n",
              "      <th>new_index</th>\n",
              "      <th>months_number</th>\n",
              "      <th>disrict</th>\n",
              "      <th>client_catg</th>\n",
              "      <th>region</th>\n",
              "      <th>target</th>\n",
              "    </tr>\n",
              "  </thead>\n",
              "  <tbody>\n",
              "    <tr>\n",
              "      <th>tarif_type</th>\n",
              "      <td>1.000000</td>\n",
              "      <td>-0.050585</td>\n",
              "      <td>-0.833181</td>\n",
              "      <td>-0.053135</td>\n",
              "      <td>-0.006556</td>\n",
              "      <td>-0.185588</td>\n",
              "      <td>-0.060301</td>\n",
              "      <td>-0.087614</td>\n",
              "      <td>-0.040977</td>\n",
              "      <td>-0.194378</td>\n",
              "      <td>-0.196333</td>\n",
              "      <td>0.014203</td>\n",
              "      <td>0.068426</td>\n",
              "      <td>0.000258</td>\n",
              "      <td>-0.041803</td>\n",
              "      <td>0.013384</td>\n",
              "    </tr>\n",
              "    <tr>\n",
              "      <th>counter_number</th>\n",
              "      <td>-0.050585</td>\n",
              "      <td>1.000000</td>\n",
              "      <td>0.030406</td>\n",
              "      <td>0.048613</td>\n",
              "      <td>-0.000732</td>\n",
              "      <td>-0.000534</td>\n",
              "      <td>-0.003040</td>\n",
              "      <td>0.015873</td>\n",
              "      <td>0.009142</td>\n",
              "      <td>-0.027722</td>\n",
              "      <td>-0.027146</td>\n",
              "      <td>-0.000966</td>\n",
              "      <td>0.002977</td>\n",
              "      <td>0.001087</td>\n",
              "      <td>0.017088</td>\n",
              "      <td>0.028005</td>\n",
              "    </tr>\n",
              "    <tr>\n",
              "      <th>counter_code</th>\n",
              "      <td>-0.833181</td>\n",
              "      <td>0.030406</td>\n",
              "      <td>1.000000</td>\n",
              "      <td>0.070062</td>\n",
              "      <td>0.025231</td>\n",
              "      <td>0.210090</td>\n",
              "      <td>0.128767</td>\n",
              "      <td>0.171057</td>\n",
              "      <td>0.116415</td>\n",
              "      <td>0.326529</td>\n",
              "      <td>0.330873</td>\n",
              "      <td>-0.000656</td>\n",
              "      <td>-0.014840</td>\n",
              "      <td>0.155043</td>\n",
              "      <td>-0.027599</td>\n",
              "      <td>-0.002109</td>\n",
              "    </tr>\n",
              "    <tr>\n",
              "      <th>reading_remarque</th>\n",
              "      <td>-0.053135</td>\n",
              "      <td>0.048613</td>\n",
              "      <td>0.070062</td>\n",
              "      <td>1.000000</td>\n",
              "      <td>0.023982</td>\n",
              "      <td>0.090857</td>\n",
              "      <td>0.002535</td>\n",
              "      <td>0.121644</td>\n",
              "      <td>0.061261</td>\n",
              "      <td>0.082947</td>\n",
              "      <td>0.085900</td>\n",
              "      <td>0.012496</td>\n",
              "      <td>0.039314</td>\n",
              "      <td>0.062213</td>\n",
              "      <td>-0.008319</td>\n",
              "      <td>0.004769</td>\n",
              "    </tr>\n",
              "    <tr>\n",
              "      <th>counter_coefficient</th>\n",
              "      <td>-0.006556</td>\n",
              "      <td>-0.000732</td>\n",
              "      <td>0.025231</td>\n",
              "      <td>0.023982</td>\n",
              "      <td>1.000000</td>\n",
              "      <td>0.004384</td>\n",
              "      <td>0.030878</td>\n",
              "      <td>0.005495</td>\n",
              "      <td>0.015489</td>\n",
              "      <td>0.003380</td>\n",
              "      <td>0.003369</td>\n",
              "      <td>0.001822</td>\n",
              "      <td>-0.006744</td>\n",
              "      <td>0.060492</td>\n",
              "      <td>0.001035</td>\n",
              "      <td>-0.002853</td>\n",
              "    </tr>\n",
              "    <tr>\n",
              "      <th>consommation_level_1</th>\n",
              "      <td>-0.185588</td>\n",
              "      <td>-0.000534</td>\n",
              "      <td>0.210090</td>\n",
              "      <td>0.090857</td>\n",
              "      <td>0.004384</td>\n",
              "      <td>1.000000</td>\n",
              "      <td>0.067766</td>\n",
              "      <td>0.095538</td>\n",
              "      <td>0.024835</td>\n",
              "      <td>0.147225</td>\n",
              "      <td>0.156672</td>\n",
              "      <td>-0.006861</td>\n",
              "      <td>0.017279</td>\n",
              "      <td>0.045476</td>\n",
              "      <td>-0.023993</td>\n",
              "      <td>0.005515</td>\n",
              "    </tr>\n",
              "    <tr>\n",
              "      <th>consommation_level_2</th>\n",
              "      <td>-0.060301</td>\n",
              "      <td>-0.003040</td>\n",
              "      <td>0.128767</td>\n",
              "      <td>0.002535</td>\n",
              "      <td>0.030878</td>\n",
              "      <td>0.067766</td>\n",
              "      <td>1.000000</td>\n",
              "      <td>0.041917</td>\n",
              "      <td>0.012475</td>\n",
              "      <td>0.175242</td>\n",
              "      <td>0.183359</td>\n",
              "      <td>0.029610</td>\n",
              "      <td>-0.008321</td>\n",
              "      <td>0.124188</td>\n",
              "      <td>-0.038674</td>\n",
              "      <td>0.008421</td>\n",
              "    </tr>\n",
              "    <tr>\n",
              "      <th>consommation_level_3</th>\n",
              "      <td>-0.087614</td>\n",
              "      <td>0.015873</td>\n",
              "      <td>0.171057</td>\n",
              "      <td>0.121644</td>\n",
              "      <td>0.005495</td>\n",
              "      <td>0.095538</td>\n",
              "      <td>0.041917</td>\n",
              "      <td>1.000000</td>\n",
              "      <td>0.269509</td>\n",
              "      <td>0.147392</td>\n",
              "      <td>0.161778</td>\n",
              "      <td>0.090125</td>\n",
              "      <td>0.015386</td>\n",
              "      <td>0.084262</td>\n",
              "      <td>-0.044474</td>\n",
              "      <td>0.023713</td>\n",
              "    </tr>\n",
              "    <tr>\n",
              "      <th>consommation_level_4</th>\n",
              "      <td>-0.040977</td>\n",
              "      <td>0.009142</td>\n",
              "      <td>0.116415</td>\n",
              "      <td>0.061261</td>\n",
              "      <td>0.015489</td>\n",
              "      <td>0.024835</td>\n",
              "      <td>0.012475</td>\n",
              "      <td>0.269509</td>\n",
              "      <td>1.000000</td>\n",
              "      <td>0.279352</td>\n",
              "      <td>0.296627</td>\n",
              "      <td>-0.000571</td>\n",
              "      <td>0.009820</td>\n",
              "      <td>0.192740</td>\n",
              "      <td>-0.034948</td>\n",
              "      <td>0.013094</td>\n",
              "    </tr>\n",
              "    <tr>\n",
              "      <th>old_index</th>\n",
              "      <td>-0.194378</td>\n",
              "      <td>-0.027722</td>\n",
              "      <td>0.326529</td>\n",
              "      <td>0.082947</td>\n",
              "      <td>0.003380</td>\n",
              "      <td>0.147225</td>\n",
              "      <td>0.175242</td>\n",
              "      <td>0.147392</td>\n",
              "      <td>0.279352</td>\n",
              "      <td>1.000000</td>\n",
              "      <td>0.993678</td>\n",
              "      <td>-0.005734</td>\n",
              "      <td>-0.018125</td>\n",
              "      <td>0.442107</td>\n",
              "      <td>-0.073327</td>\n",
              "      <td>0.027520</td>\n",
              "    </tr>\n",
              "    <tr>\n",
              "      <th>new_index</th>\n",
              "      <td>-0.196333</td>\n",
              "      <td>-0.027146</td>\n",
              "      <td>0.330873</td>\n",
              "      <td>0.085900</td>\n",
              "      <td>0.003369</td>\n",
              "      <td>0.156672</td>\n",
              "      <td>0.183359</td>\n",
              "      <td>0.161778</td>\n",
              "      <td>0.296627</td>\n",
              "      <td>0.993678</td>\n",
              "      <td>1.000000</td>\n",
              "      <td>0.069564</td>\n",
              "      <td>-0.017598</td>\n",
              "      <td>0.448193</td>\n",
              "      <td>-0.074077</td>\n",
              "      <td>0.028188</td>\n",
              "    </tr>\n",
              "    <tr>\n",
              "      <th>months_number</th>\n",
              "      <td>0.014203</td>\n",
              "      <td>-0.000966</td>\n",
              "      <td>-0.000656</td>\n",
              "      <td>0.012496</td>\n",
              "      <td>0.001822</td>\n",
              "      <td>-0.006861</td>\n",
              "      <td>0.029610</td>\n",
              "      <td>0.090125</td>\n",
              "      <td>-0.000571</td>\n",
              "      <td>-0.005734</td>\n",
              "      <td>0.069564</td>\n",
              "      <td>1.000000</td>\n",
              "      <td>-0.004223</td>\n",
              "      <td>0.073315</td>\n",
              "      <td>0.000992</td>\n",
              "      <td>0.006669</td>\n",
              "    </tr>\n",
              "    <tr>\n",
              "      <th>disrict</th>\n",
              "      <td>0.068426</td>\n",
              "      <td>0.002977</td>\n",
              "      <td>-0.014840</td>\n",
              "      <td>0.039314</td>\n",
              "      <td>-0.006744</td>\n",
              "      <td>0.017279</td>\n",
              "      <td>-0.008321</td>\n",
              "      <td>0.015386</td>\n",
              "      <td>0.009820</td>\n",
              "      <td>-0.018125</td>\n",
              "      <td>-0.017598</td>\n",
              "      <td>-0.004223</td>\n",
              "      <td>1.000000</td>\n",
              "      <td>0.023865</td>\n",
              "      <td>-0.320447</td>\n",
              "      <td>0.059542</td>\n",
              "    </tr>\n",
              "    <tr>\n",
              "      <th>client_catg</th>\n",
              "      <td>0.000258</td>\n",
              "      <td>0.001087</td>\n",
              "      <td>0.155043</td>\n",
              "      <td>0.062213</td>\n",
              "      <td>0.060492</td>\n",
              "      <td>0.045476</td>\n",
              "      <td>0.124188</td>\n",
              "      <td>0.084262</td>\n",
              "      <td>0.192740</td>\n",
              "      <td>0.442107</td>\n",
              "      <td>0.448193</td>\n",
              "      <td>0.073315</td>\n",
              "      <td>0.023865</td>\n",
              "      <td>1.000000</td>\n",
              "      <td>-0.045423</td>\n",
              "      <td>0.074530</td>\n",
              "    </tr>\n",
              "    <tr>\n",
              "      <th>region</th>\n",
              "      <td>-0.041803</td>\n",
              "      <td>0.017088</td>\n",
              "      <td>-0.027599</td>\n",
              "      <td>-0.008319</td>\n",
              "      <td>0.001035</td>\n",
              "      <td>-0.023993</td>\n",
              "      <td>-0.038674</td>\n",
              "      <td>-0.044474</td>\n",
              "      <td>-0.034948</td>\n",
              "      <td>-0.073327</td>\n",
              "      <td>-0.074077</td>\n",
              "      <td>0.000992</td>\n",
              "      <td>-0.320447</td>\n",
              "      <td>-0.045423</td>\n",
              "      <td>1.000000</td>\n",
              "      <td>0.019523</td>\n",
              "    </tr>\n",
              "    <tr>\n",
              "      <th>target</th>\n",
              "      <td>0.013384</td>\n",
              "      <td>0.028005</td>\n",
              "      <td>-0.002109</td>\n",
              "      <td>0.004769</td>\n",
              "      <td>-0.002853</td>\n",
              "      <td>0.005515</td>\n",
              "      <td>0.008421</td>\n",
              "      <td>0.023713</td>\n",
              "      <td>0.013094</td>\n",
              "      <td>0.027520</td>\n",
              "      <td>0.028188</td>\n",
              "      <td>0.006669</td>\n",
              "      <td>0.059542</td>\n",
              "      <td>0.074530</td>\n",
              "      <td>0.019523</td>\n",
              "      <td>1.000000</td>\n",
              "    </tr>\n",
              "  </tbody>\n",
              "</table>\n",
              "</div>"
            ],
            "text/plain": [
              "                      tarif_type  counter_number  counter_code  \\\n",
              "tarif_type              1.000000       -0.050585     -0.833181   \n",
              "counter_number         -0.050585        1.000000      0.030406   \n",
              "counter_code           -0.833181        0.030406      1.000000   \n",
              "reading_remarque       -0.053135        0.048613      0.070062   \n",
              "counter_coefficient    -0.006556       -0.000732      0.025231   \n",
              "consommation_level_1   -0.185588       -0.000534      0.210090   \n",
              "consommation_level_2   -0.060301       -0.003040      0.128767   \n",
              "consommation_level_3   -0.087614        0.015873      0.171057   \n",
              "consommation_level_4   -0.040977        0.009142      0.116415   \n",
              "old_index              -0.194378       -0.027722      0.326529   \n",
              "new_index              -0.196333       -0.027146      0.330873   \n",
              "months_number           0.014203       -0.000966     -0.000656   \n",
              "disrict                 0.068426        0.002977     -0.014840   \n",
              "client_catg             0.000258        0.001087      0.155043   \n",
              "region                 -0.041803        0.017088     -0.027599   \n",
              "target                  0.013384        0.028005     -0.002109   \n",
              "\n",
              "                      reading_remarque  counter_coefficient  \\\n",
              "tarif_type                   -0.053135            -0.006556   \n",
              "counter_number                0.048613            -0.000732   \n",
              "counter_code                  0.070062             0.025231   \n",
              "reading_remarque              1.000000             0.023982   \n",
              "counter_coefficient           0.023982             1.000000   \n",
              "consommation_level_1          0.090857             0.004384   \n",
              "consommation_level_2          0.002535             0.030878   \n",
              "consommation_level_3          0.121644             0.005495   \n",
              "consommation_level_4          0.061261             0.015489   \n",
              "old_index                     0.082947             0.003380   \n",
              "new_index                     0.085900             0.003369   \n",
              "months_number                 0.012496             0.001822   \n",
              "disrict                       0.039314            -0.006744   \n",
              "client_catg                   0.062213             0.060492   \n",
              "region                       -0.008319             0.001035   \n",
              "target                        0.004769            -0.002853   \n",
              "\n",
              "                      consommation_level_1  consommation_level_2  \\\n",
              "tarif_type                       -0.185588             -0.060301   \n",
              "counter_number                   -0.000534             -0.003040   \n",
              "counter_code                      0.210090              0.128767   \n",
              "reading_remarque                  0.090857              0.002535   \n",
              "counter_coefficient               0.004384              0.030878   \n",
              "consommation_level_1              1.000000              0.067766   \n",
              "consommation_level_2              0.067766              1.000000   \n",
              "consommation_level_3              0.095538              0.041917   \n",
              "consommation_level_4              0.024835              0.012475   \n",
              "old_index                         0.147225              0.175242   \n",
              "new_index                         0.156672              0.183359   \n",
              "months_number                    -0.006861              0.029610   \n",
              "disrict                           0.017279             -0.008321   \n",
              "client_catg                       0.045476              0.124188   \n",
              "region                           -0.023993             -0.038674   \n",
              "target                            0.005515              0.008421   \n",
              "\n",
              "                      consommation_level_3  consommation_level_4  old_index  \\\n",
              "tarif_type                       -0.087614             -0.040977  -0.194378   \n",
              "counter_number                    0.015873              0.009142  -0.027722   \n",
              "counter_code                      0.171057              0.116415   0.326529   \n",
              "reading_remarque                  0.121644              0.061261   0.082947   \n",
              "counter_coefficient               0.005495              0.015489   0.003380   \n",
              "consommation_level_1              0.095538              0.024835   0.147225   \n",
              "consommation_level_2              0.041917              0.012475   0.175242   \n",
              "consommation_level_3              1.000000              0.269509   0.147392   \n",
              "consommation_level_4              0.269509              1.000000   0.279352   \n",
              "old_index                         0.147392              0.279352   1.000000   \n",
              "new_index                         0.161778              0.296627   0.993678   \n",
              "months_number                     0.090125             -0.000571  -0.005734   \n",
              "disrict                           0.015386              0.009820  -0.018125   \n",
              "client_catg                       0.084262              0.192740   0.442107   \n",
              "region                           -0.044474             -0.034948  -0.073327   \n",
              "target                            0.023713              0.013094   0.027520   \n",
              "\n",
              "                      new_index  months_number   disrict  client_catg  \\\n",
              "tarif_type            -0.196333       0.014203  0.068426     0.000258   \n",
              "counter_number        -0.027146      -0.000966  0.002977     0.001087   \n",
              "counter_code           0.330873      -0.000656 -0.014840     0.155043   \n",
              "reading_remarque       0.085900       0.012496  0.039314     0.062213   \n",
              "counter_coefficient    0.003369       0.001822 -0.006744     0.060492   \n",
              "consommation_level_1   0.156672      -0.006861  0.017279     0.045476   \n",
              "consommation_level_2   0.183359       0.029610 -0.008321     0.124188   \n",
              "consommation_level_3   0.161778       0.090125  0.015386     0.084262   \n",
              "consommation_level_4   0.296627      -0.000571  0.009820     0.192740   \n",
              "old_index              0.993678      -0.005734 -0.018125     0.442107   \n",
              "new_index              1.000000       0.069564 -0.017598     0.448193   \n",
              "months_number          0.069564       1.000000 -0.004223     0.073315   \n",
              "disrict               -0.017598      -0.004223  1.000000     0.023865   \n",
              "client_catg            0.448193       0.073315  0.023865     1.000000   \n",
              "region                -0.074077       0.000992 -0.320447    -0.045423   \n",
              "target                 0.028188       0.006669  0.059542     0.074530   \n",
              "\n",
              "                        region    target  \n",
              "tarif_type           -0.041803  0.013384  \n",
              "counter_number        0.017088  0.028005  \n",
              "counter_code         -0.027599 -0.002109  \n",
              "reading_remarque     -0.008319  0.004769  \n",
              "counter_coefficient   0.001035 -0.002853  \n",
              "consommation_level_1 -0.023993  0.005515  \n",
              "consommation_level_2 -0.038674  0.008421  \n",
              "consommation_level_3 -0.044474  0.023713  \n",
              "consommation_level_4 -0.034948  0.013094  \n",
              "old_index            -0.073327  0.027520  \n",
              "new_index            -0.074077  0.028188  \n",
              "months_number         0.000992  0.006669  \n",
              "disrict              -0.320447  0.059542  \n",
              "client_catg          -0.045423  0.074530  \n",
              "region                1.000000  0.019523  \n",
              "target                0.019523  1.000000  "
            ]
          },
          "execution_count": 28,
          "metadata": {},
          "output_type": "execute_result"
        }
      ],
      "source": [
        "# Correlation Analysis\n",
        "corr_df = df.corr(numeric_only=True)\n",
        "corr_df"
      ]
    },
    {
      "cell_type": "code",
      "execution_count": 29,
      "metadata": {
        "colab": {
          "base_uri": "https://localhost:8080/",
          "height": 843
        },
        "id": "VBhAK6O2Izs4",
        "outputId": "acd27adf-c264-4fb8-e051-adda727e24e0"
      },
      "outputs": [
        {
          "data": {
            "image/png": "[encoded data removed]",
            "text/plain": [
              "<Figure size 1200x800 with 2 Axes>"
            ]
          },
          "metadata": {},
          "output_type": "display_data"
        }
      ],
      "source": [
        "plt.figure(figsize=(12,8))\n",
        "sns.heatmap(corr_df,annot=True,fmt=\".2f\",cmap=\"coolwarm\")\n",
        "plt.title(\"correlation_matrix\")\n",
        "plt.show()"
      ]
    },
    {
      "cell_type": "markdown",
      "metadata": {
        "id": "bXFZvf0qe61Z"
      },
      "source": [
        "key correlations between features and  multicollinearity will remove highly correlated features plus feature engineering to combine correlated features like new and old index"
      ]
    },
    {
      "cell_type": "code",
      "execution_count": 30,
      "metadata": {
        "colab": {
          "base_uri": "https://localhost:8080/",
          "height": 143
        },
        "id": "bNKwJVY8Mqei",
        "outputId": "07607e02-b54c-42ff-c586-c337a863dc7b"
      },
      "outputs": [
        {
          "data": {
            "text/html": [
              "<div>\n",
              "<style scoped>\n",
              "    .dataframe tbody tr th:only-of-type {\n",
              "        vertical-align: middle;\n",
              "    }\n",
              "\n",
              "    .dataframe tbody tr th {\n",
              "        vertical-align: top;\n",
              "    }\n",
              "\n",
              "    .dataframe thead th {\n",
              "        text-align: right;\n",
              "    }\n",
              "</style>\n",
              "<table border=\"1\" class=\"dataframe\">\n",
              "  <thead>\n",
              "    <tr style=\"text-align: right;\">\n",
              "      <th>target</th>\n",
              "      <th>0.0</th>\n",
              "      <th>1.0</th>\n",
              "    </tr>\n",
              "    <tr>\n",
              "      <th>counter_type</th>\n",
              "      <th></th>\n",
              "      <th></th>\n",
              "    </tr>\n",
              "  </thead>\n",
              "  <tbody>\n",
              "    <tr>\n",
              "      <th>ELEC</th>\n",
              "      <td>2843053</td>\n",
              "      <td>236345</td>\n",
              "    </tr>\n",
              "    <tr>\n",
              "      <th>GAZ</th>\n",
              "      <td>1280576</td>\n",
              "      <td>116764</td>\n",
              "    </tr>\n",
              "  </tbody>\n",
              "</table>\n",
              "</div>"
            ],
            "text/plain": [
              "target            0.0     1.0\n",
              "counter_type                 \n",
              "ELEC          2843053  236345\n",
              "GAZ           1280576  116764"
            ]
          },
          "execution_count": 30,
          "metadata": {},
          "output_type": "execute_result"
        }
      ],
      "source": [
        "# Counter Type vs Target Analysis\n",
        "group_table = pd.crosstab(df[\"counter_type\"],df[\"target\"])\n",
        "group_table"
      ]
    },
    {
      "cell_type": "code",
      "execution_count": 31,
      "metadata": {
        "colab": {
          "base_uri": "https://localhost:8080/",
          "height": 718
        },
        "id": "OOQNd8vNNDq2",
        "outputId": "bac48da6-99fb-4cb8-9489-0ea209ec0ee6"
      },
      "outputs": [
        {
          "data": {
            "image/png": "[encoded data removed]",
            "text/plain": [
              "<Figure size 1200x800 with 2 Axes>"
            ]
          },
          "metadata": {},
          "output_type": "display_data"
        }
      ],
      "source": [
        "plt.figure(figsize=(12,8))\n",
        "sns.heatmap(group_table,annot= True,cmap='coolwarm',fmt=\".2f\")\n",
        "plt.title(\"counter_type & target corr\")\n",
        "plt.show()"
      ]
    },
    {
      "cell_type": "markdown",
      "metadata": {
        "id": "7PM5c4syfVa3"
      },
      "source": [
        "Recommend to focus fraud detection efforts on high-risk counter types like elec"
      ]
    },
    {
      "cell_type": "code",
      "execution_count": 32,
      "metadata": {
        "id": "l1TLIeL3XGmv"
      },
      "outputs": [],
      "source": [
        "# Convert col_dates to datetime\n",
        "df[[\"creation_date\", \"invoice_date\"]] = df[[\"creation_date\", \"invoice_date\"]].apply(\n",
        "    lambda col: pd.to_datetime(col, dayfirst=True)\n",
        ")"
      ]
    },
    {
      "cell_type": "code",
      "execution_count": 33,
      "metadata": {
        "colab": {
          "base_uri": "https://localhost:8080/",
          "height": 125
        },
        "id": "_5sl_xVTXPzA",
        "outputId": "8794cb33-0776-47c5-c404-aa187a2a4364"
      },
      "outputs": [
        {
          "data": {
            "text/html": [
              "<div>\n",
              "<style scoped>\n",
              "    .dataframe tbody tr th:only-of-type {\n",
              "        vertical-align: middle;\n",
              "    }\n",
              "\n",
              "    .dataframe tbody tr th {\n",
              "        vertical-align: top;\n",
              "    }\n",
              "\n",
              "    .dataframe thead th {\n",
              "        text-align: right;\n",
              "    }\n",
              "</style>\n",
              "<table border=\"1\" class=\"dataframe\">\n",
              "  <thead>\n",
              "    <tr style=\"text-align: right;\">\n",
              "      <th></th>\n",
              "      <th>creation_date</th>\n",
              "      <th>target</th>\n",
              "    </tr>\n",
              "  </thead>\n",
              "  <tbody>\n",
              "    <tr>\n",
              "      <th>creation_date</th>\n",
              "      <td>1.000000</td>\n",
              "      <td>-0.044958</td>\n",
              "    </tr>\n",
              "    <tr>\n",
              "      <th>target</th>\n",
              "      <td>-0.044958</td>\n",
              "      <td>1.000000</td>\n",
              "    </tr>\n",
              "  </tbody>\n",
              "</table>\n",
              "</div>"
            ],
            "text/plain": [
              "               creation_date    target\n",
              "creation_date       1.000000 -0.044958\n",
              "target             -0.044958  1.000000"
            ]
          },
          "execution_count": 33,
          "metadata": {},
          "output_type": "execute_result"
        }
      ],
      "source": [
        "cor = df[[\"creation_date\",\"target\"]].corr()\n",
        "cor"
      ]
    },
    {
      "cell_type": "code",
      "execution_count": 34,
      "metadata": {
        "colab": {
          "base_uri": "https://localhost:8080/",
          "height": 699
        },
        "id": "-wjfavS_cLzi",
        "outputId": "6cfab0c5-4eb1-4f8f-9331-f6e30f8908bb"
      },
      "outputs": [
        {
          "data": {
            "image/png": "[encoded data removed]",
            "text/plain": [
              "<Figure size 1200x800 with 2 Axes>"
            ]
          },
          "metadata": {},
          "output_type": "display_data"
        }
      ],
      "source": [
        "plt.figure(figsize=(12,8))\n",
        "sns.heatmap(cor,annot= True,cmap='coolwarm',fmt=\".2f\")\n",
        "plt.title(\"clients_creation_date & target corr\")\n",
        "plt.show()"
      ]
    },
    {
      "cell_type": "markdown",
      "metadata": {
        "id": "jB37LRs0hwc6"
      },
      "source": [
        "### Multi-variate Analysis"
      ]
    },
    {
      "cell_type": "code",
      "execution_count": 35,
      "metadata": {
        "colab": {
          "base_uri": "https://localhost:8080/",
          "height": 563
        },
        "id": "V5UOACTJhxYU",
        "outputId": "c23d38c3-5996-49a3-c528-768931c58870"
      },
      "outputs": [
        {
          "data": {
            "image/png": "[encoded data removed]",
            "text/plain": [
              "<Figure size 1400x600 with 1 Axes>"
            ]
          },
          "metadata": {},
          "output_type": "display_data"
        }
      ],
      "source": [
        "# Time Series Analysis\n",
        "# analysis on how invoice date relates to consumption levels and target\n",
        "df_time = df.set_index('invoice_date').resample('M').agg({\n",
        "    'target': 'mean',\n",
        "    'consommation_level_1': 'sum',\n",
        "    'consommation_level_2': 'sum',\n",
        "    'consommation_level_3': 'sum',\n",
        "    'consommation_level_4': 'sum'\n",
        "})\n",
        "\n",
        "# Plot\n",
        "plt.figure(figsize=(14, 6))\n",
        "sns.lineplot(data=df_time, x=df_time.index, y='target', label='Target')\n",
        "sns.lineplot(data=df_time, x=df_time.index, y='consommation_level_1', label='Level 1')\n",
        "sns.lineplot(data=df_time, x=df_time.index, y='consommation_level_2', label='Level 2')\n",
        "sns.lineplot(data=df_time, x=df_time.index, y='consommation_level_3', label='Level 3')\n",
        "sns.lineplot(data=df_time, x=df_time.index, y='consommation_level_4', label='Level 4')\n",
        "plt.title('Consumption & Target Over Time')\n",
        "plt.xticks(rotation=45)\n",
        "plt.show()"
      ]
    },
    {
      "cell_type": "markdown",
      "metadata": {
        "id": "CGsCNXB1RaEx"
      },
      "source": [
        "level 1 consumption has the highest up trend fradulent cases with year 2019 as the high season peak while level 3 consumption has the least to non fradulent cases with a range pattern. Overall he consumption levels have shown uptrend since invoice_date 2005"
      ]
    },
    {
      "cell_type": "code",
      "execution_count": 36,
      "metadata": {
        "colab": {
          "base_uri": "https://localhost:8080/",
          "height": 374
        },
        "id": "2ieEvJ2yEUWh",
        "outputId": "68d8f31e-18b3-4502-bbfa-d7ab78ccb10a"
      },
      "outputs": [
        {
          "data": {
            "text/plain": [
              "<Figure size 1200x600 with 0 Axes>"
            ]
          },
          "metadata": {},
          "output_type": "display_data"
        },
        {
          "data": {
            "image/png": "[encoded data removed]",
            "text/plain": [
              "<Figure size 1302.61x400 with 3 Axes>"
            ]
          },
          "metadata": {},
          "output_type": "display_data"
        }
      ],
      "source": [
        "#Whether relationships between consumption and target vary by counter_type or region.\n",
        "plt.figure(figsize=(12, 6))\n",
        "sns.lmplot(\n",
        "    data=df.sample(3),\n",
        "    x='consommation_level_1',\n",
        "    y='target',\n",
        "    hue='counter_type',\n",
        "    col='region',\n",
        "    ci=None,\n",
        "    height=4\n",
        ")\n",
        "plt.show()"
      ]
    },
    {
      "cell_type": "code",
      "execution_count": 37,
      "metadata": {
        "colab": {
          "base_uri": "https://localhost:8080/",
          "height": 795
        },
        "id": "wkfTf6rvV9uq",
        "outputId": "87ddcf27-a32a-4da5-a6ad-39b7b25d3dcf"
      },
      "outputs": [
        {
          "name": "stdout",
          "output_type": "stream",
          "text": [
            "Explained Variance Ratio: [0.1857316  0.10129173 0.08209789 0.07286929 0.06531123 0.06431925\n",
            " 0.06314867 0.06116644 0.06035314]\n",
            "Cumulative Variance: [0.1857316  0.28702333 0.36912123 0.44199052 0.50730175 0.571621\n",
            " 0.63476967 0.69593611 0.75628925]\n"
          ]
        },
        {
          "data": {
            "image/png": "[encoded data removed]",
            "text/plain": [
              "<Figure size 1000x800 with 1 Axes>"
            ]
          },
          "metadata": {},
          "output_type": "display_data"
        }
      ],
      "source": [
        "# PCA Analysis for Dimensionality Reduction\n",
        "num_cols = df.select_dtypes(include=['int64', 'float64']).columns.tolist()\n",
        "\n",
        "scaler = StandardScaler()\n",
        "scaled_data = scaler.fit_transform(df[num_cols])\n",
        "\n",
        "# PCA auto-select components for 70% variance\n",
        "pca = PCA(n_components=0.70)\n",
        "pca_result = pca.fit_transform(scaled_data)\n",
        "\n",
        "# Check variance explained\n",
        "print(\"Explained Variance Ratio:\",pca.explained_variance_ratio_)\n",
        "print(\"Cumulative Variance:\", np.cumsum(pca.explained_variance_ratio_))\n",
        "\n",
        "\n",
        "#plotting only the first 2 (PC1 & PC2).\n",
        "plt.figure(figsize=(10, 8))\n",
        "sns.scatterplot(\n",
        "    x=pca_result[:, 0],\n",
        "    y=pca_result[:, 1],\n",
        "    hue=df['target'],\n",
        "    alpha=0.6\n",
        ")\n",
        "plt.xlabel(\"PC1 (Key Drivers: [old_index, new_index])\")\n",
        "plt.ylabel(\"PC2 (Key Drivers: [client_catg, tarif_type])\")\n",
        "plt.title(\"PCA: Client Behavior Patterns\")\n",
        "plt.legend(title=\"target\")\n",
        "plt.show()"
      ]
    },
    {
      "cell_type": "code",
      "execution_count": 38,
      "metadata": {
        "colab": {
          "base_uri": "https://localhost:8080/"
        },
        "id": "xhZ9N_XqtQcS",
        "outputId": "15b59ef4-107d-4ff8-c625-1de7fffdd329"
      },
      "outputs": [
        {
          "name": "stdout",
          "output_type": "stream",
          "text": [
            "counter_code            0.501584\n",
            "region                  0.200507\n",
            "consommation_level_1    0.186152\n",
            "counter_number          0.092069\n",
            "reading_remarque        0.006360\n",
            "counter_coefficient    -0.009070\n",
            "consommation_level_3   -0.025460\n",
            "consommation_level_2   -0.035825\n",
            "months_number          -0.082187\n",
            "target                 -0.085316\n",
            "disrict                -0.185741\n",
            "consommation_level_4   -0.198286\n",
            "old_index              -0.231840\n",
            "new_index              -0.236345\n",
            "client_catg            -0.311180\n",
            "tarif_type             -0.607235\n",
            "Name: PC2, dtype: float64\n"
          ]
        }
      ],
      "source": [
        "#understand what each component represents.(Top drivers of PC2 )\n",
        "pca_loadings = pd.DataFrame(\n",
        "    pca.components_.T,\n",
        "    columns=[f'PC{i+1}' for i in range(pca.n_components_)],\n",
        "    index=num_cols\n",
        ")\n",
        "print(pca_loadings['PC2'].sort_values(ascending=False))"
      ]
    },
    {
      "cell_type": "markdown",
      "metadata": {
        "id": "YubuN2HDgHEb"
      },
      "source": [
        "Focusing on most important features identified by PCA might use PCA components as features in my model"
      ]
    },
    {
      "cell_type": "markdown",
      "metadata": {
        "id": "qnvXvNOXoaJA"
      },
      "source": [
        "### Answer Questions\n"
      ]
    },
    {
      "cell_type": "markdown",
      "metadata": {
        "id": "c8ILZzSFouPU"
      },
      "source": [
        "1. What is the frequency of each unique counter_type across fraud categories?"
      ]
    },
    {
      "cell_type": "code",
      "execution_count": 39,
      "metadata": {
        "colab": {
          "base_uri": "https://localhost:8080/",
          "height": 542
        },
        "id": "v97LGgNEpVuz",
        "outputId": "3ed8f183-e93d-47e7-cfa2-c76e1d932c13"
      },
      "outputs": [
        {
          "data": {
            "application/vnd.plotly.v1+json": {
              "config": {
                "plotlyServerURL": "https://plot.ly"
              },
              "data": [
                {
                  "alignmentgroup": "True",
                  "hovertemplate": "Fraud Status=0.0<br>Counter Type=%{x}<br>value=%{y}<extra></extra>",
                  "legendgroup": "0.0",
                  "marker": {
                    "color": "#636efa",
                    "pattern": {
                      "shape": ""
                    }
                  },
                  "name": "0.0",
                  "offsetgroup": "0.0",
                  "orientation": "v",
                  "showlegend": true,
                  "textposition": "auto",
                  "type": "bar",
                  "x": [
                    "ELEC",
                    "GAZ"
                  ],
                  "xaxis": "x",
                  "y": [
                    92.32496091768586,
                    91.6438375771108
                  ],
                  "yaxis": "y"
                },
                {
                  "alignmentgroup": "True",
                  "hovertemplate": "Fraud Status=1.0<br>Counter Type=%{x}<br>value=%{y}<extra></extra>",
                  "legendgroup": "1.0",
                  "marker": {
                    "color": "#EF553B",
                    "pattern": {
                      "shape": ""
                    }
                  },
                  "name": "1.0",
                  "offsetgroup": "1.0",
                  "orientation": "v",
                  "showlegend": true,
                  "textposition": "auto",
                  "type": "bar",
                  "x": [
                    "ELEC",
                    "GAZ"
                  ],
                  "xaxis": "x",
                  "y": [
                    7.67503908231414,
                    8.356162422889204
                  ],
                  "yaxis": "y"
                }
              ],
              "layout": {
                "barmode": "group",
                "legend": {
                  "title": {
                    "text": "Fraud Status"
                  },
                  "tracegroupgap": 0
                },
                "template": {
                  "data": {
                    "bar": [
                      {
                        "error_x": {
                          "color": "#2a3f5f"
                        },
                        "error_y": {
                          "color": "#2a3f5f"
                        },
                        "marker": {
                          "line": {
                            "color": "#E5ECF6",
                            "width": 0.5
                          },
                          "pattern": {
                            "fillmode": "overlay",
                            "size": 10,
                            "solidity": 0.2
                          }
                        },
                        "type": "bar"
                      }
                    ],
                    "barpolar": [
                      {
                        "marker": {
                          "line": {
                            "color": "#E5ECF6",
                            "width": 0.5
                          },
                          "pattern": {
                            "fillmode": "overlay",
                            "size": 10,
                            "solidity": 0.2
                          }
                        },
                        "type": "barpolar"
                      }
                    ],
                    "carpet": [
                      {
                        "aaxis": {
                          "endlinecolor": "#2a3f5f",
                          "gridcolor": "white",
                          "linecolor": "white",
                          "minorgridcolor": "white",
                          "startlinecolor": "#2a3f5f"
                        },
                        "baxis": {
                          "endlinecolor": "#2a3f5f",
                          "gridcolor": "white",
                          "linecolor": "white",
                          "minorgridcolor": "white",
                          "startlinecolor": "#2a3f5f"
                        },
                        "type": "carpet"
                      }
                    ],
                    "choropleth": [
                      {
                        "colorbar": {
                          "outlinewidth": 0,
                          "ticks": ""
                        },
                        "type": "choropleth"
                      }
                    ],
                    "contour": [
                      {
                        "colorbar": {
                          "outlinewidth": 0,
                          "ticks": ""
                        },
                        "colorscale": [
                          [
                            0,
                            "#0d0887"
                          ],
                          [
                            0.1111111111111111,
                            "#46039f"
                          ],
                          [
                            0.2222222222222222,
                            "#7201a8"
                          ],
                          [
                            0.3333333333333333,
                            "#9c179e"
                          ],
                          [
                            0.4444444444444444,
                            "#bd3786"
                          ],
                          [
                            0.5555555555555556,
                            "#d8576b"
                          ],
                          [
                            0.6666666666666666,
                            "#ed7953"
                          ],
                          [
                            0.7777777777777778,
                            "#fb9f3a"
                          ],
                          [
                            0.8888888888888888,
                            "#fdca26"
                          ],
                          [
                            1,
                            "#f0f921"
                          ]
                        ],
                        "type": "contour"
                      }
                    ],
                    "contourcarpet": [
                      {
                        "colorbar": {
                          "outlinewidth": 0,
                          "ticks": ""
                        },
                        "type": "contourcarpet"
                      }
                    ],
                    "heatmap": [
                      {
                        "colorbar": {
                          "outlinewidth": 0,
                          "ticks": ""
                        },
                        "colorscale": [
                          [
                            0,
                            "#0d0887"
                          ],
                          [
                            0.1111111111111111,
                            "#46039f"
                          ],
                          [
                            0.2222222222222222,
                            "#7201a8"
                          ],
                          [
                            0.3333333333333333,
                            "#9c179e"
                          ],
                          [
                            0.4444444444444444,
                            "#bd3786"
                          ],
                          [
                            0.5555555555555556,
                            "#d8576b"
                          ],
                          [
                            0.6666666666666666,
                            "#ed7953"
                          ],
                          [
                            0.7777777777777778,
                            "#fb9f3a"
                          ],
                          [
                            0.8888888888888888,
                            "#fdca26"
                          ],
                          [
                            1,
                            "#f0f921"
                          ]
                        ],
                        "type": "heatmap"
                      }
                    ],
                    "heatmapgl": [
                      {
                        "colorbar": {
                          "outlinewidth": 0,
                          "ticks": ""
                        },
                        "colorscale": [
                          [
                            0,
                            "#0d0887"
                          ],
                          [
                            0.1111111111111111,
                            "#46039f"
                          ],
                          [
                            0.2222222222222222,
                            "#7201a8"
                          ],
                          [
                            0.3333333333333333,
                            "#9c179e"
                          ],
                          [
                            0.4444444444444444,
                            "#bd3786"
                          ],
                          [
                            0.5555555555555556,
                            "#d8576b"
                          ],
                          [
                            0.6666666666666666,
                            "#ed7953"
                          ],
                          [
                            0.7777777777777778,
                            "#fb9f3a"
                          ],
                          [
                            0.8888888888888888,
                            "#fdca26"
                          ],
                          [
                            1,
                            "#f0f921"
                          ]
                        ],
                        "type": "heatmapgl"
                      }
                    ],
                    "histogram": [
                      {
                        "marker": {
                          "pattern": {
                            "fillmode": "overlay",
                            "size": 10,
                            "solidity": 0.2
                          }
                        },
                        "type": "histogram"
                      }
                    ],
                    "histogram2d": [
                      {
                        "colorbar": {
                          "outlinewidth": 0,
                          "ticks": ""
                        },
                        "colorscale": [
                          [
                            0,
                            "#0d0887"
                          ],
                          [
                            0.1111111111111111,
                            "#46039f"
                          ],
                          [
                            0.2222222222222222,
                            "#7201a8"
                          ],
                          [
                            0.3333333333333333,
                            "#9c179e"
                          ],
                          [
                            0.4444444444444444,
                            "#bd3786"
                          ],
                          [
                            0.5555555555555556,
                            "#d8576b"
                          ],
                          [
                            0.6666666666666666,
                            "#ed7953"
                          ],
                          [
                            0.7777777777777778,
                            "#fb9f3a"
                          ],
                          [
                            0.8888888888888888,
                            "#fdca26"
                          ],
                          [
                            1,
                            "#f0f921"
                          ]
                        ],
                        "type": "histogram2d"
                      }
                    ],
                    "histogram2dcontour": [
                      {
                        "colorbar": {
                          "outlinewidth": 0,
                          "ticks": ""
                        },
                        "colorscale": [
                          [
                            0,
                            "#0d0887"
                          ],
                          [
                            0.1111111111111111,
                            "#46039f"
                          ],
                          [
                            0.2222222222222222,
                            "#7201a8"
                          ],
                          [
                            0.3333333333333333,
                            "#9c179e"
                          ],
                          [
                            0.4444444444444444,
                            "#bd3786"
                          ],
                          [
                            0.5555555555555556,
                            "#d8576b"
                          ],
                          [
                            0.6666666666666666,
                            "#ed7953"
                          ],
                          [
                            0.7777777777777778,
                            "#fb9f3a"
                          ],
                          [
                            0.8888888888888888,
                            "#fdca26"
                          ],
                          [
                            1,
                            "#f0f921"
                          ]
                        ],
                        "type": "histogram2dcontour"
                      }
                    ],
                    "mesh3d": [
                      {
                        "colorbar": {
                          "outlinewidth": 0,
                          "ticks": ""
                        },
                        "type": "mesh3d"
                      }
                    ],
                    "parcoords": [
                      {
                        "line": {
                          "colorbar": {
                            "outlinewidth": 0,
                            "ticks": ""
                          }
                        },
                        "type": "parcoords"
                      }
                    ],
                    "pie": [
                      {
                        "automargin": true,
                        "type": "pie"
                      }
                    ],
                    "scatter": [
                      {
                        "fillpattern": {
                          "fillmode": "overlay",
                          "size": 10,
                          "solidity": 0.2
                        },
                        "type": "scatter"
                      }
                    ],
                    "scatter3d": [
                      {
                        "line": {
                          "colorbar": {
                            "outlinewidth": 0,
                            "ticks": ""
                          }
                        },
                        "marker": {
                          "colorbar": {
                            "outlinewidth": 0,
                            "ticks": ""
                          }
                        },
                        "type": "scatter3d"
                      }
                    ],
                    "scattercarpet": [
                      {
                        "marker": {
                          "colorbar": {
                            "outlinewidth": 0,
                            "ticks": ""
                          }
                        },
                        "type": "scattercarpet"
                      }
                    ],
                    "scattergeo": [
                      {
                        "marker": {
                          "colorbar": {
                            "outlinewidth": 0,
                            "ticks": ""
                          }
                        },
                        "type": "scattergeo"
                      }
                    ],
                    "scattergl": [
                      {
                        "marker": {
                          "colorbar": {
                            "outlinewidth": 0,
                            "ticks": ""
                          }
                        },
                        "type": "scattergl"
                      }
                    ],
                    "scattermapbox": [
                      {
                        "marker": {
                          "colorbar": {
                            "outlinewidth": 0,
                            "ticks": ""
                          }
                        },
                        "type": "scattermapbox"
                      }
                    ],
                    "scatterpolar": [
                      {
                        "marker": {
                          "colorbar": {
                            "outlinewidth": 0,
                            "ticks": ""
                          }
                        },
                        "type": "scatterpolar"
                      }
                    ],
                    "scatterpolargl": [
                      {
                        "marker": {
                          "colorbar": {
                            "outlinewidth": 0,
                            "ticks": ""
                          }
                        },
                        "type": "scatterpolargl"
                      }
                    ],
                    "scatterternary": [
                      {
                        "marker": {
                          "colorbar": {
                            "outlinewidth": 0,
                            "ticks": ""
                          }
                        },
                        "type": "scatterternary"
                      }
                    ],
                    "surface": [
                      {
                        "colorbar": {
                          "outlinewidth": 0,
                          "ticks": ""
                        },
                        "colorscale": [
                          [
                            0,
                            "#0d0887"
                          ],
                          [
                            0.1111111111111111,
                            "#46039f"
                          ],
                          [
                            0.2222222222222222,
                            "#7201a8"
                          ],
                          [
                            0.3333333333333333,
                            "#9c179e"
                          ],
                          [
                            0.4444444444444444,
                            "#bd3786"
                          ],
                          [
                            0.5555555555555556,
                            "#d8576b"
                          ],
                          [
                            0.6666666666666666,
                            "#ed7953"
                          ],
                          [
                            0.7777777777777778,
                            "#fb9f3a"
                          ],
                          [
                            0.8888888888888888,
                            "#fdca26"
                          ],
                          [
                            1,
                            "#f0f921"
                          ]
                        ],
                        "type": "surface"
                      }
                    ],
                    "table": [
                      {
                        "cells": {
                          "fill": {
                            "color": "#EBF0F8"
                          },
                          "line": {
                            "color": "white"
                          }
                        },
                        "header": {
                          "fill": {
                            "color": "#C8D4E3"
                          },
                          "line": {
                            "color": "white"
                          }
                        },
                        "type": "table"
                      }
                    ]
                  },
                  "layout": {
                    "annotationdefaults": {
                      "arrowcolor": "#2a3f5f",
                      "arrowhead": 0,
                      "arrowwidth": 1
                    },
                    "autotypenumbers": "strict",
                    "coloraxis": {
                      "colorbar": {
                        "outlinewidth": 0,
                        "ticks": ""
                      }
                    },
                    "colorscale": {
                      "diverging": [
                        [
                          0,
                          "#8e0152"
                        ],
                        [
                          0.1,
                          "#c51b7d"
                        ],
                        [
                          0.2,
                          "#de77ae"
                        ],
                        [
                          0.3,
                          "#f1b6da"
                        ],
                        [
                          0.4,
                          "#fde0ef"
                        ],
                        [
                          0.5,
                          "#f7f7f7"
                        ],
                        [
                          0.6,
                          "#e6f5d0"
                        ],
                        [
                          0.7,
                          "#b8e186"
                        ],
                        [
                          0.8,
                          "#7fbc41"
                        ],
                        [
                          0.9,
                          "#4d9221"
                        ],
                        [
                          1,
                          "#276419"
                        ]
                      ],
                      "sequential": [
                        [
                          0,
                          "#0d0887"
                        ],
                        [
                          0.1111111111111111,
                          "#46039f"
                        ],
                        [
                          0.2222222222222222,
                          "#7201a8"
                        ],
                        [
                          0.3333333333333333,
                          "#9c179e"
                        ],
                        [
                          0.4444444444444444,
                          "#bd3786"
                        ],
                        [
                          0.5555555555555556,
                          "#d8576b"
                        ],
                        [
                          0.6666666666666666,
                          "#ed7953"
                        ],
                        [
                          0.7777777777777778,
                          "#fb9f3a"
                        ],
                        [
                          0.8888888888888888,
                          "#fdca26"
                        ],
                        [
                          1,
                          "#f0f921"
                        ]
                      ],
                      "sequentialminus": [
                        [
                          0,
                          "#0d0887"
                        ],
                        [
                          0.1111111111111111,
                          "#46039f"
                        ],
                        [
                          0.2222222222222222,
                          "#7201a8"
                        ],
                        [
                          0.3333333333333333,
                          "#9c179e"
                        ],
                        [
                          0.4444444444444444,
                          "#bd3786"
                        ],
                        [
                          0.5555555555555556,
                          "#d8576b"
                        ],
                        [
                          0.6666666666666666,
                          "#ed7953"
                        ],
                        [
                          0.7777777777777778,
                          "#fb9f3a"
                        ],
                        [
                          0.8888888888888888,
                          "#fdca26"
                        ],
                        [
                          1,
                          "#f0f921"
                        ]
                      ]
                    },
                    "colorway": [
                      "#636efa",
                      "#EF553B",
                      "#00cc96",
                      "#ab63fa",
                      "#FFA15A",
                      "#19d3f3",
                      "#FF6692",
                      "#B6E880",
                      "#FF97FF",
                      "#FECB52"
                    ],
                    "font": {
                      "color": "#2a3f5f"
                    },
                    "geo": {
                      "bgcolor": "white",
                      "lakecolor": "white",
                      "landcolor": "#E5ECF6",
                      "showlakes": true,
                      "showland": true,
                      "subunitcolor": "white"
                    },
                    "hoverlabel": {
                      "align": "left"
                    },
                    "hovermode": "closest",
                    "mapbox": {
                      "style": "light"
                    },
                    "paper_bgcolor": "white",
                    "plot_bgcolor": "#E5ECF6",
                    "polar": {
                      "angularaxis": {
                        "gridcolor": "white",
                        "linecolor": "white",
                        "ticks": ""
                      },
                      "bgcolor": "#E5ECF6",
                      "radialaxis": {
                        "gridcolor": "white",
                        "linecolor": "white",
                        "ticks": ""
                      }
                    },
                    "scene": {
                      "xaxis": {
                        "backgroundcolor": "#E5ECF6",
                        "gridcolor": "white",
                        "gridwidth": 2,
                        "linecolor": "white",
                        "showbackground": true,
                        "ticks": "",
                        "zerolinecolor": "white"
                      },
                      "yaxis": {
                        "backgroundcolor": "#E5ECF6",
                        "gridcolor": "white",
                        "gridwidth": 2,
                        "linecolor": "white",
                        "showbackground": true,
                        "ticks": "",
                        "zerolinecolor": "white"
                      },
                      "zaxis": {
                        "backgroundcolor": "#E5ECF6",
                        "gridcolor": "white",
                        "gridwidth": 2,
                        "linecolor": "white",
                        "showbackground": true,
                        "ticks": "",
                        "zerolinecolor": "white"
                      }
                    },
                    "shapedefaults": {
                      "line": {
                        "color": "#2a3f5f"
                      }
                    },
                    "ternary": {
                      "aaxis": {
                        "gridcolor": "white",
                        "linecolor": "white",
                        "ticks": ""
                      },
                      "baxis": {
                        "gridcolor": "white",
                        "linecolor": "white",
                        "ticks": ""
                      },
                      "bgcolor": "#E5ECF6",
                      "caxis": {
                        "gridcolor": "white",
                        "linecolor": "white",
                        "ticks": ""
                      }
                    },
                    "title": {
                      "x": 0.05
                    },
                    "xaxis": {
                      "automargin": true,
                      "gridcolor": "white",
                      "linecolor": "white",
                      "ticks": "",
                      "title": {
                        "standoff": 15
                      },
                      "zerolinecolor": "white",
                      "zerolinewidth": 2
                    },
                    "yaxis": {
                      "automargin": true,
                      "gridcolor": "white",
                      "linecolor": "white",
                      "ticks": "",
                      "title": {
                        "standoff": 15
                      },
                      "zerolinecolor": "white",
                      "zerolinewidth": 2
                    }
                  }
                },
                "title": {
                  "text": "Fraud Frequency by Counter Type"
                },
                "xaxis": {
                  "anchor": "y",
                  "domain": [
                    0,
                    1
                  ],
                  "title": {
                    "text": "Counter Type"
                  }
                },
                "yaxis": {
                  "anchor": "x",
                  "domain": [
                    0,
                    1
                  ],
                  "title": {
                    "text": "value"
                  }
                }
              }
            }
          },
          "metadata": {},
          "output_type": "display_data"
        }
      ],
      "source": [
        "fraud_freq = pd.crosstab(df['counter_type'], df['target'], normalize='index') * 100\n",
        "fraud_counts = pd.crosstab(df['counter_type'], df['target'])\n",
        "\n",
        "#  plotly\n",
        "fig = px.bar(fraud_freq,\n",
        "             title='Fraud Frequency by Counter Type',\n",
        "             labels={'counter_type': 'Counter Type', 'target': 'Fraud Status'},\n",
        "             barmode='group')\n",
        "fig.show()\n"
      ]
    },
    {
      "cell_type": "markdown",
      "metadata": {
        "id": "fIpQdvZAgaxZ"
      },
      "source": [
        "GAZ counters show higher fraud rate compared to ELEC but overall fraud rate is relatively low across both type. Implement stricter monitoring for GAZ counters"
      ]
    },
    {
      "cell_type": "markdown",
      "metadata": {
        "id": "Cjl-yixBto5a"
      },
      "source": [
        "2. Is there a relationship between consumption levels and counter_type?\n"
      ]
    },
    {
      "cell_type": "code",
      "execution_count": 41,
      "metadata": {
        "colab": {
          "background_save": true
        },
        "id": "j7HXZUB4trpr",
        "outputId": "b26357f8-fc58-4ab1-f0b8-47a9c90f3b6f"
      },
      "outputs": [
        {
          "ename": "IndentationError",
          "evalue": "unindent does not match any outer indentation level (<tokenize>, line 11)",
          "output_type": "error",
          "traceback": [
            "\u001b[1;36m  File \u001b[1;32m<tokenize>:11\u001b[1;36m\u001b[0m\n\u001b[1;33m    ['consommation_level_1',\u001b[0m\n\u001b[1;37m    ^\u001b[0m\n\u001b[1;31mIndentationError\u001b[0m\u001b[1;31m:\u001b[0m unindent does not match any outer indentation level\n"
          ]
        }
      ],
      "source": [
        "#fig = px.box(df,\n",
        "             x='counter_type',\n",
        "             y=['consommation_level_1',\n",
        "                'consommation_level_2',\n",
        "                'consommation_level_4'],\n",
        "             title='Consumption Distribution by Counter Type')\n",
        "fig.show()\n",
        "\n",
        "#  average consumption by counter type and fraud status\n",
        "consumption_analysis = df.groupby(['counter_type', 'target'])[\n",
        "    ['consommation_level_1',\n",
        "     'consommation_level_2',\n",
        "     'consommation_level_4']].mean()"
      ]
    },
    {
      "cell_type": "markdown",
      "metadata": {
        "id": "kXOqfmEBgxPw"
      },
      "source": [
        "Above is different consumption patterns between ELEC and GAZ, fraudulent cases show higher variation in consumption. Setting consumption thresholds by counter type to curb this"
      ]
    },
    {
      "cell_type": "markdown",
      "metadata": {
        "id": "LdQjG5ERwYuL"
      },
      "source": [
        "3. Do seasonal variations in consumption patterns differ across counter_type and fraud categories?"
      ]
    },
    {
      "cell_type": "code",
      "execution_count": 42,
      "metadata": {
        "colab": {
          "background_save": true
        },
        "id": "ir6Y67LZhILz",
        "outputId": "dd75f941-4c28-440f-dc8b-c5e489342a76"
      },
      "outputs": [
        {
          "data": {
            "application/vnd.plotly.v1+json": {
              "config": {
                "plotlyServerURL": "https://plot.ly"
              },
              "data": [
                {
                  "hovertemplate": "counter_type=ELEC<br>month=%{x}<br>target=%{y}<extra></extra>",
                  "legendgroup": "ELEC",
                  "line": {
                    "color": "#636efa",
                    "dash": "solid"
                  },
                  "marker": {
                    "symbol": "circle"
                  },
                  "mode": "lines",
                  "name": "ELEC",
                  "orientation": "v",
                  "showlegend": true,
                  "type": "scatter",
                  "x": [
                    1,
                    2,
                    3,
                    4,
                    5,
                    6,
                    7,
                    8,
                    9,
                    10,
                    11,
                    12
                  ],
                  "xaxis": "x",
                  "y": [
                    0.08086816846846137,
                    0.08670520231213873,
                    0.07910875118106275,
                    0.07834762308553961,
                    0.07782633505942065,
                    0.0736905261894762,
                    0.07050901816724006,
                    0.07182126422862678,
                    0.07859196037677442,
                    0.07477602375676955,
                    0.07250784186339414,
                    0.07386201339535042
                  ],
                  "yaxis": "y"
                },
                {
                  "hovertemplate": "counter_type=GAZ<br>month=%{x}<br>target=%{y}<extra></extra>",
                  "legendgroup": "GAZ",
                  "line": {
                    "color": "#EF553B",
                    "dash": "solid"
                  },
                  "marker": {
                    "symbol": "circle"
                  },
                  "mode": "lines",
                  "name": "GAZ",
                  "orientation": "v",
                  "showlegend": true,
                  "type": "scatter",
                  "x": [
                    1,
                    2,
                    3,
                    4,
                    5,
                    6,
                    7,
                    8,
                    9,
                    10,
                    11,
                    12
                  ],
                  "xaxis": "x",
                  "y": [
                    0.08816196664740754,
                    0.10033721689730074,
                    0.08370866924886995,
                    0.08545238056402812,
                    0.08661981615684439,
                    0.08180347651937248,
                    0.07319856537332899,
                    0.07907016608258419,
                    0.08565145783939333,
                    0.08166491524649336,
                    0.07544499682965604,
                    0.07540515576454782
                  ],
                  "yaxis": "y"
                }
              ],
              "layout": {
                "legend": {
                  "title": {
                    "text": "counter_type"
                  },
                  "tracegroupgap": 0
                },
                "template": {
                  "data": {
                    "bar": [
                      {
                        "error_x": {
                          "color": "#2a3f5f"
                        },
                        "error_y": {
                          "color": "#2a3f5f"
                        },
                        "marker": {
                          "line": {
                            "color": "#E5ECF6",
                            "width": 0.5
                          },
                          "pattern": {
                            "fillmode": "overlay",
                            "size": 10,
                            "solidity": 0.2
                          }
                        },
                        "type": "bar"
                      }
                    ],
                    "barpolar": [
                      {
                        "marker": {
                          "line": {
                            "color": "#E5ECF6",
                            "width": 0.5
                          },
                          "pattern": {
                            "fillmode": "overlay",
                            "size": 10,
                            "solidity": 0.2
                          }
                        },
                        "type": "barpolar"
                      }
                    ],
                    "carpet": [
                      {
                        "aaxis": {
                          "endlinecolor": "#2a3f5f",
                          "gridcolor": "white",
                          "linecolor": "white",
                          "minorgridcolor": "white",
                          "startlinecolor": "#2a3f5f"
                        },
                        "baxis": {
                          "endlinecolor": "#2a3f5f",
                          "gridcolor": "white",
                          "linecolor": "white",
                          "minorgridcolor": "white",
                          "startlinecolor": "#2a3f5f"
                        },
                        "type": "carpet"
                      }
                    ],
                    "choropleth": [
                      {
                        "colorbar": {
                          "outlinewidth": 0,
                          "ticks": ""
                        },
                        "type": "choropleth"
                      }
                    ],
                    "contour": [
                      {
                        "colorbar": {
                          "outlinewidth": 0,
                          "ticks": ""
                        },
                        "colorscale": [
                          [
                            0,
                            "#0d0887"
                          ],
                          [
                            0.1111111111111111,
                            "#46039f"
                          ],
                          [
                            0.2222222222222222,
                            "#7201a8"
                          ],
                          [
                            0.3333333333333333,
                            "#9c179e"
                          ],
                          [
                            0.4444444444444444,
                            "#bd3786"
                          ],
                          [
                            0.5555555555555556,
                            "#d8576b"
                          ],
                          [
                            0.6666666666666666,
                            "#ed7953"
                          ],
                          [
                            0.7777777777777778,
                            "#fb9f3a"
                          ],
                          [
                            0.8888888888888888,
                            "#fdca26"
                          ],
                          [
                            1,
                            "#f0f921"
                          ]
                        ],
                        "type": "contour"
                      }
                    ],
                    "contourcarpet": [
                      {
                        "colorbar": {
                          "outlinewidth": 0,
                          "ticks": ""
                        },
                        "type": "contourcarpet"
                      }
                    ],
                    "heatmap": [
                      {
                        "colorbar": {
                          "outlinewidth": 0,
                          "ticks": ""
                        },
                        "colorscale": [
                          [
                            0,
                            "#0d0887"
                          ],
                          [
                            0.1111111111111111,
                            "#46039f"
                          ],
                          [
                            0.2222222222222222,
                            "#7201a8"
                          ],
                          [
                            0.3333333333333333,
                            "#9c179e"
                          ],
                          [
                            0.4444444444444444,
                            "#bd3786"
                          ],
                          [
                            0.5555555555555556,
                            "#d8576b"
                          ],
                          [
                            0.6666666666666666,
                            "#ed7953"
                          ],
                          [
                            0.7777777777777778,
                            "#fb9f3a"
                          ],
                          [
                            0.8888888888888888,
                            "#fdca26"
                          ],
                          [
                            1,
                            "#f0f921"
                          ]
                        ],
                        "type": "heatmap"
                      }
                    ],
                    "heatmapgl": [
                      {
                        "colorbar": {
                          "outlinewidth": 0,
                          "ticks": ""
                        },
                        "colorscale": [
                          [
                            0,
                            "#0d0887"
                          ],
                          [
                            0.1111111111111111,
                            "#46039f"
                          ],
                          [
                            0.2222222222222222,
                            "#7201a8"
                          ],
                          [
                            0.3333333333333333,
                            "#9c179e"
                          ],
                          [
                            0.4444444444444444,
                            "#bd3786"
                          ],
                          [
                            0.5555555555555556,
                            "#d8576b"
                          ],
                          [
                            0.6666666666666666,
                            "#ed7953"
                          ],
                          [
                            0.7777777777777778,
                            "#fb9f3a"
                          ],
                          [
                            0.8888888888888888,
                            "#fdca26"
                          ],
                          [
                            1,
                            "#f0f921"
                          ]
                        ],
                        "type": "heatmapgl"
                      }
                    ],
                    "histogram": [
                      {
                        "marker": {
                          "pattern": {
                            "fillmode": "overlay",
                            "size": 10,
                            "solidity": 0.2
                          }
                        },
                        "type": "histogram"
                      }
                    ],
                    "histogram2d": [
                      {
                        "colorbar": {
                          "outlinewidth": 0,
                          "ticks": ""
                        },
                        "colorscale": [
                          [
                            0,
                            "#0d0887"
                          ],
                          [
                            0.1111111111111111,
                            "#46039f"
                          ],
                          [
                            0.2222222222222222,
                            "#7201a8"
                          ],
                          [
                            0.3333333333333333,
                            "#9c179e"
                          ],
                          [
                            0.4444444444444444,
                            "#bd3786"
                          ],
                          [
                            0.5555555555555556,
                            "#d8576b"
                          ],
                          [
                            0.6666666666666666,
                            "#ed7953"
                          ],
                          [
                            0.7777777777777778,
                            "#fb9f3a"
                          ],
                          [
                            0.8888888888888888,
                            "#fdca26"
                          ],
                          [
                            1,
                            "#f0f921"
                          ]
                        ],
                        "type": "histogram2d"
                      }
                    ],
                    "histogram2dcontour": [
                      {
                        "colorbar": {
                          "outlinewidth": 0,
                          "ticks": ""
                        },
                        "colorscale": [
                          [
                            0,
                            "#0d0887"
                          ],
                          [
                            0.1111111111111111,
                            "#46039f"
                          ],
                          [
                            0.2222222222222222,
                            "#7201a8"
                          ],
                          [
                            0.3333333333333333,
                            "#9c179e"
                          ],
                          [
                            0.4444444444444444,
                            "#bd3786"
                          ],
                          [
                            0.5555555555555556,
                            "#d8576b"
                          ],
                          [
                            0.6666666666666666,
                            "#ed7953"
                          ],
                          [
                            0.7777777777777778,
                            "#fb9f3a"
                          ],
                          [
                            0.8888888888888888,
                            "#fdca26"
                          ],
                          [
                            1,
                            "#f0f921"
                          ]
                        ],
                        "type": "histogram2dcontour"
                      }
                    ],
                    "mesh3d": [
                      {
                        "colorbar": {
                          "outlinewidth": 0,
                          "ticks": ""
                        },
                        "type": "mesh3d"
                      }
                    ],
                    "parcoords": [
                      {
                        "line": {
                          "colorbar": {
                            "outlinewidth": 0,
                            "ticks": ""
                          }
                        },
                        "type": "parcoords"
                      }
                    ],
                    "pie": [
                      {
                        "automargin": true,
                        "type": "pie"
                      }
                    ],
                    "scatter": [
                      {
                        "fillpattern": {
                          "fillmode": "overlay",
                          "size": 10,
                          "solidity": 0.2
                        },
                        "type": "scatter"
                      }
                    ],
                    "scatter3d": [
                      {
                        "line": {
                          "colorbar": {
                            "outlinewidth": 0,
                            "ticks": ""
                          }
                        },
                        "marker": {
                          "colorbar": {
                            "outlinewidth": 0,
                            "ticks": ""
                          }
                        },
                        "type": "scatter3d"
                      }
                    ],
                    "scattercarpet": [
                      {
                        "marker": {
                          "colorbar": {
                            "outlinewidth": 0,
                            "ticks": ""
                          }
                        },
                        "type": "scattercarpet"
                      }
                    ],
                    "scattergeo": [
                      {
                        "marker": {
                          "colorbar": {
                            "outlinewidth": 0,
                            "ticks": ""
                          }
                        },
                        "type": "scattergeo"
                      }
                    ],
                    "scattergl": [
                      {
                        "marker": {
                          "colorbar": {
                            "outlinewidth": 0,
                            "ticks": ""
                          }
                        },
                        "type": "scattergl"
                      }
                    ],
                    "scattermapbox": [
                      {
                        "marker": {
                          "colorbar": {
                            "outlinewidth": 0,
                            "ticks": ""
                          }
                        },
                        "type": "scattermapbox"
                      }
                    ],
                    "scatterpolar": [
                      {
                        "marker": {
                          "colorbar": {
                            "outlinewidth": 0,
                            "ticks": ""
                          }
                        },
                        "type": "scatterpolar"
                      }
                    ],
                    "scatterpolargl": [
                      {
                        "marker": {
                          "colorbar": {
                            "outlinewidth": 0,
                            "ticks": ""
                          }
                        },
                        "type": "scatterpolargl"
                      }
                    ],
                    "scatterternary": [
                      {
                        "marker": {
                          "colorbar": {
                            "outlinewidth": 0,
                            "ticks": ""
                          }
                        },
                        "type": "scatterternary"
                      }
                    ],
                    "surface": [
                      {
                        "colorbar": {
                          "outlinewidth": 0,
                          "ticks": ""
                        },
                        "colorscale": [
                          [
                            0,
                            "#0d0887"
                          ],
                          [
                            0.1111111111111111,
                            "#46039f"
                          ],
                          [
                            0.2222222222222222,
                            "#7201a8"
                          ],
                          [
                            0.3333333333333333,
                            "#9c179e"
                          ],
                          [
                            0.4444444444444444,
                            "#bd3786"
                          ],
                          [
                            0.5555555555555556,
                            "#d8576b"
                          ],
                          [
                            0.6666666666666666,
                            "#ed7953"
                          ],
                          [
                            0.7777777777777778,
                            "#fb9f3a"
                          ],
                          [
                            0.8888888888888888,
                            "#fdca26"
                          ],
                          [
                            1,
                            "#f0f921"
                          ]
                        ],
                        "type": "surface"
                      }
                    ],
                    "table": [
                      {
                        "cells": {
                          "fill": {
                            "color": "#EBF0F8"
                          },
                          "line": {
                            "color": "white"
                          }
                        },
                        "header": {
                          "fill": {
                            "color": "#C8D4E3"
                          },
                          "line": {
                            "color": "white"
                          }
                        },
                        "type": "table"
                      }
                    ]
                  },
                  "layout": {
                    "annotationdefaults": {
                      "arrowcolor": "#2a3f5f",
                      "arrowhead": 0,
                      "arrowwidth": 1
                    },
                    "autotypenumbers": "strict",
                    "coloraxis": {
                      "colorbar": {
                        "outlinewidth": 0,
                        "ticks": ""
                      }
                    },
                    "colorscale": {
                      "diverging": [
                        [
                          0,
                          "#8e0152"
                        ],
                        [
                          0.1,
                          "#c51b7d"
                        ],
                        [
                          0.2,
                          "#de77ae"
                        ],
                        [
                          0.3,
                          "#f1b6da"
                        ],
                        [
                          0.4,
                          "#fde0ef"
                        ],
                        [
                          0.5,
                          "#f7f7f7"
                        ],
                        [
                          0.6,
                          "#e6f5d0"
                        ],
                        [
                          0.7,
                          "#b8e186"
                        ],
                        [
                          0.8,
                          "#7fbc41"
                        ],
                        [
                          0.9,
                          "#4d9221"
                        ],
                        [
                          1,
                          "#276419"
                        ]
                      ],
                      "sequential": [
                        [
                          0,
                          "#0d0887"
                        ],
                        [
                          0.1111111111111111,
                          "#46039f"
                        ],
                        [
                          0.2222222222222222,
                          "#7201a8"
                        ],
                        [
                          0.3333333333333333,
                          "#9c179e"
                        ],
                        [
                          0.4444444444444444,
                          "#bd3786"
                        ],
                        [
                          0.5555555555555556,
                          "#d8576b"
                        ],
                        [
                          0.6666666666666666,
                          "#ed7953"
                        ],
                        [
                          0.7777777777777778,
                          "#fb9f3a"
                        ],
                        [
                          0.8888888888888888,
                          "#fdca26"
                        ],
                        [
                          1,
                          "#f0f921"
                        ]
                      ],
                      "sequentialminus": [
                        [
                          0,
                          "#0d0887"
                        ],
                        [
                          0.1111111111111111,
                          "#46039f"
                        ],
                        [
                          0.2222222222222222,
                          "#7201a8"
                        ],
                        [
                          0.3333333333333333,
                          "#9c179e"
                        ],
                        [
                          0.4444444444444444,
                          "#bd3786"
                        ],
                        [
                          0.5555555555555556,
                          "#d8576b"
                        ],
                        [
                          0.6666666666666666,
                          "#ed7953"
                        ],
                        [
                          0.7777777777777778,
                          "#fb9f3a"
                        ],
                        [
                          0.8888888888888888,
                          "#fdca26"
                        ],
                        [
                          1,
                          "#f0f921"
                        ]
                      ]
                    },
                    "colorway": [
                      "#636efa",
                      "#EF553B",
                      "#00cc96",
                      "#ab63fa",
                      "#FFA15A",
                      "#19d3f3",
                      "#FF6692",
                      "#B6E880",
                      "#FF97FF",
                      "#FECB52"
                    ],
                    "font": {
                      "color": "#2a3f5f"
                    },
                    "geo": {
                      "bgcolor": "white",
                      "lakecolor": "white",
                      "landcolor": "#E5ECF6",
                      "showlakes": true,
                      "showland": true,
                      "subunitcolor": "white"
                    },
                    "hoverlabel": {
                      "align": "left"
                    },
                    "hovermode": "closest",
                    "mapbox": {
                      "style": "light"
                    },
                    "paper_bgcolor": "white",
                    "plot_bgcolor": "#E5ECF6",
                    "polar": {
                      "angularaxis": {
                        "gridcolor": "white",
                        "linecolor": "white",
                        "ticks": ""
                      },
                      "bgcolor": "#E5ECF6",
                      "radialaxis": {
                        "gridcolor": "white",
                        "linecolor": "white",
                        "ticks": ""
                      }
                    },
                    "scene": {
                      "xaxis": {
                        "backgroundcolor": "#E5ECF6",
                        "gridcolor": "white",
                        "gridwidth": 2,
                        "linecolor": "white",
                        "showbackground": true,
                        "ticks": "",
                        "zerolinecolor": "white"
                      },
                      "yaxis": {
                        "backgroundcolor": "#E5ECF6",
                        "gridcolor": "white",
                        "gridwidth": 2,
                        "linecolor": "white",
                        "showbackground": true,
                        "ticks": "",
                        "zerolinecolor": "white"
                      },
                      "zaxis": {
                        "backgroundcolor": "#E5ECF6",
                        "gridcolor": "white",
                        "gridwidth": 2,
                        "linecolor": "white",
                        "showbackground": true,
                        "ticks": "",
                        "zerolinecolor": "white"
                      }
                    },
                    "shapedefaults": {
                      "line": {
                        "color": "#2a3f5f"
                      }
                    },
                    "ternary": {
                      "aaxis": {
                        "gridcolor": "white",
                        "linecolor": "white",
                        "ticks": ""
                      },
                      "baxis": {
                        "gridcolor": "white",
                        "linecolor": "white",
                        "ticks": ""
                      },
                      "bgcolor": "#E5ECF6",
                      "caxis": {
                        "gridcolor": "white",
                        "linecolor": "white",
                        "ticks": ""
                      }
                    },
                    "title": {
                      "x": 0.05
                    },
                    "xaxis": {
                      "automargin": true,
                      "gridcolor": "white",
                      "linecolor": "white",
                      "ticks": "",
                      "title": {
                        "standoff": 15
                      },
                      "zerolinecolor": "white",
                      "zerolinewidth": 2
                    },
                    "yaxis": {
                      "automargin": true,
                      "gridcolor": "white",
                      "linecolor": "white",
                      "ticks": "",
                      "title": {
                        "standoff": 15
                      },
                      "zerolinecolor": "white",
                      "zerolinewidth": 2
                    }
                  }
                },
                "title": {
                  "text": "Seasonal Fraud Patterns by Counter Type"
                },
                "xaxis": {
                  "anchor": "y",
                  "domain": [
                    0,
                    1
                  ],
                  "title": {
                    "text": "month"
                  }
                },
                "yaxis": {
                  "anchor": "x",
                  "domain": [
                    0,
                    1
                  ],
                  "title": {
                    "text": "target"
                  }
                }
              }
            }
          },
          "metadata": {},
          "output_type": "display_data"
        }
      ],
      "source": [
        "# Create month column\n",
        "df['month'] = pd.to_datetime(df['invoice_date']).dt.month\n",
        "\n",
        "# seasonal patterns\n",
        "seasonal_fraud = df.groupby(['month', 'counter_type'])['target'].mean().reset_index()\n",
        "\n",
        "fig = px.line(seasonal_fraud,\n",
        "              x='month',\n",
        "              y='target',\n",
        "              color='counter_type',\n",
        "              title='Seasonal Fraud Patterns by Counter Type')\n",
        "fig.show()"
      ]
    },
    {
      "cell_type": "markdown",
      "metadata": {
        "id": "EwNXKH-ZhMiC"
      },
      "source": [
        "Higher fraud rates during peak consumption months (2nd month), there is different seasonal patterns for ELEC vs GAZ solution is to implement season-specific fraud detection thresholds on high peak season"
      ]
    },
    {
      "cell_type": "markdown",
      "metadata": {
        "id": "vld7wce6hR55"
      },
      "source": [
        "## Hypothesis Testing"
      ]
    },
    {
      "cell_type": "code",
      "execution_count": 43,
      "metadata": {
        "colab": {
          "background_save": true
        },
        "id": "ZBT5n58ihSz_",
        "outputId": "28f17173-90d7-4bb6-8d10-60a10a78386c"
      },
      "outputs": [
        {
          "name": "stdout",
          "output_type": "stream",
          "text": [
            "\n",
            "Hypothesis Test Results:\n",
            "Chi-square statistic: 613.66\n",
            "p-value: 0.0000\n",
            "\n",
            "Reject null hypothesis: There is a significant difference in fraud distribution between counter types\n"
          ]
        }
      ],
      "source": [
        "elec_fraud = df[df['counter_type'] == 'ELEC']['target']\n",
        "gaz_fraud = df[df['counter_type'] == 'GAZ']['target']\n",
        "\n",
        "# chi-square test\n",
        "contingency_table = pd.crosstab(df['counter_type'], df['target'])\n",
        "chi2, p_value = stats.chi2_contingency(contingency_table)[:2]\n",
        "\n",
        "print(\"\\nHypothesis Test Results:\")\n",
        "print(f\"Chi-square statistic: {chi2:.2f}\")\n",
        "print(f\"p-value: {p_value:.4f}\")\n",
        "\n",
        "# conclusion\n",
        "alpha = 0.05\n",
        "if p_value < alpha:\n",
        "    print(\"\\nReject null hypothesis: There is a significant difference in fraud distribution between counter types\")\n",
        "else:\n",
        "    print(\"\\nFail to reject null hypothesis: No significant difference in fraud distribution between counter types\")\n"
      ]
    },
    {
      "cell_type": "markdown",
      "metadata": {
        "id": "JSwp4X0ghcGw"
      },
      "source": [
        "Hypothesis test confirms relationship between counter type and fraud. p-value < 0.05 indicates significant difference"
      ]
    }
  ],
  "metadata": {
    "colab": {
      "provenance": []
    },
    "kernelspec": {
      "display_name": "Chun_Prediction",
      "language": "python",
      "name": "python3"
    },
    "language_info": {
      "codemirror_mode": {
        "name": "ipython",
        "version": 3
      },
      "file_extension": ".py",
      "mimetype": "text/x-python",
      "name": "python",
      "nbconvert_exporter": "python",
      "pygments_lexer": "ipython3",
      "version": "3.11.6"
    }
  },
  "nbformat": 4,
  "nbformat_minor": 0
}
